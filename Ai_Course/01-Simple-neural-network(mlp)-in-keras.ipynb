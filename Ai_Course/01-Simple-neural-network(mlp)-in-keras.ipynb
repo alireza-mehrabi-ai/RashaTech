{
 "cells": [
  {
   "cell_type": "markdown",
   "metadata": {},
   "source": [
    "<center><div style=\"direction:rtl;font-family:B Lotus, B Nazanin, Tahoma\">به نام خدا</div></center>\n",
    "\n",
    "<h1><center><div style=\"direction:rtl;font-family:B Lotus, B Nazanin, Tahoma\">مقدمه‌ای بر شبکه‌های عصبی و چارچوب Keras (کراس)</div></center></h1>"
   ]
  },
  {
   "cell_type": "markdown",
   "metadata": {},
   "source": [
    "## <div style=\"direction:rtl;text-align:right;font-family:B Lotus, B Nazanin, Tahoma\">لود کتابخانه‌های مورد استفاده</div>\n",
    "<div style=\"direction:rtl;text-align:right;font-family:Tahoma\">\n"
   ]
  },
  {
   "cell_type": "code",
   "execution_count": 1,
   "metadata": {
    "nbpresent": {
     "id": "de829a92-1fb6-44ad-a2c6-fc1001e1f6e1"
    }
   },
   "outputs": [
    {
     "name": "stdout",
     "output_type": "stream",
     "text": [
      "WARNING:tensorflow:From c:\\Users\\Lenovo\\AppData\\Local\\Programs\\Python\\Python310\\lib\\site-packages\\keras\\src\\losses.py:2976: The name tf.losses.sparse_softmax_cross_entropy is deprecated. Please use tf.compat.v1.losses.sparse_softmax_cross_entropy instead.\n",
      "\n"
     ]
    }
   ],
   "source": [
    "from tensorflow import keras\n",
    "from keras.models import Sequential\n",
    "from keras.layers import Dense\n",
    "import numpy as np\n",
    "\n",
    "from dataset import load_hoda"
   ]
  },
  {
   "cell_type": "markdown",
   "metadata": {},
   "source": [
    "## <div style=\"direction:rtl;text-align:right;font-family:B Lotus, B Nazanin, Tahoma\">لود مجموعه داده (dataset)</div>"
   ]
  },
  {
   "cell_type": "code",
   "execution_count": 2,
   "metadata": {},
   "outputs": [],
   "source": [
    "x_train_original, y_train_original, x_test_original, y_test_original = load_hoda()"
   ]
  },
  {
   "cell_type": "code",
   "execution_count": 3,
   "metadata": {},
   "outputs": [],
   "source": [
    "# Preprocess input data for Keras. \n",
    "y_train = keras.utils.to_categorical(y_train_original, num_classes=10)\n",
    "y_test = keras.utils.to_categorical(y_test_original, num_classes=10)"
   ]
  },
  {
   "cell_type": "markdown",
   "metadata": {},
   "source": [
    "<div style=\"direction:rtl;text-align:right;font-family:Tahoma\">\n",
    "نرمال سازی مقادیر به مقدار بین 0 و 1 \n",
    "</div>"
   ]
  },
  {
   "cell_type": "code",
   "execution_count": 4,
   "metadata": {},
   "outputs": [],
   "source": [
    "x_train = x_train_original.astype('float32')\n",
    "x_test = x_test_original.astype('float32')\n",
    "x_train /= 255\n",
    "x_test /= 255"
   ]
  },
  {
   "cell_type": "markdown",
   "metadata": {},
   "source": [
    "## <div style=\"direction:rtl;text-align:right;font-family:B Lotus, B Nazanin, Tahoma\">تعریف معماری مدل (model architecture)</div>"
   ]
  },
  {
   "cell_type": "code",
   "execution_count": 5,
   "metadata": {},
   "outputs": [
    {
     "name": "stdout",
     "output_type": "stream",
     "text": [
      "WARNING:tensorflow:From c:\\Users\\Lenovo\\AppData\\Local\\Programs\\Python\\Python310\\lib\\site-packages\\keras\\src\\backend.py:873: The name tf.get_default_graph is deprecated. Please use tf.compat.v1.get_default_graph instead.\n",
      "\n"
     ]
    }
   ],
   "source": [
    "model = Sequential()\n",
    "model.add(Dense(64, activation='relu', input_dim=25))\n",
    "model.add(Dense(10, activation='softmax'))"
   ]
  },
  {
   "cell_type": "code",
   "execution_count": 6,
   "metadata": {},
   "outputs": [
    {
     "name": "stdout",
     "output_type": "stream",
     "text": [
      "Model: \"sequential\"\n",
      "_________________________________________________________________\n",
      " Layer (type)                Output Shape              Param #   \n",
      "=================================================================\n",
      " dense (Dense)               (None, 64)                1664      \n",
      "                                                                 \n",
      " dense_1 (Dense)             (None, 10)                650       \n",
      "                                                                 \n",
      "=================================================================\n",
      "Total params: 2314 (9.04 KB)\n",
      "Trainable params: 2314 (9.04 KB)\n",
      "Non-trainable params: 0 (0.00 Byte)\n",
      "_________________________________________________________________\n"
     ]
    }
   ],
   "source": [
    "model.summary()"
   ]
  },
  {
   "cell_type": "markdown",
   "metadata": {},
   "source": [
    "## <div style=\"direction:rtl;text-align:right;font-family:B Lotus, B Nazanin, Tahoma\">Compile model</div>\n"
   ]
  },
  {
   "cell_type": "code",
   "execution_count": 7,
   "metadata": {},
   "outputs": [
    {
     "name": "stdout",
     "output_type": "stream",
     "text": [
      "WARNING:tensorflow:From c:\\Users\\Lenovo\\AppData\\Local\\Programs\\Python\\Python310\\lib\\site-packages\\keras\\src\\optimizers\\__init__.py:309: The name tf.train.Optimizer is deprecated. Please use tf.compat.v1.train.Optimizer instead.\n",
      "\n"
     ]
    }
   ],
   "source": [
    "model.compile(loss='categorical_crossentropy',\n",
    "              optimizer='rmsprop',\n",
    "              metrics=['accuracy'])"
   ]
  },
  {
   "cell_type": "markdown",
   "metadata": {},
   "source": [
    "## <div style=\"direction:rtl;text-align:right;font-family:B Lotus, B Nazanin, Tahoma\">آموش مدل با داده‌های آموزشی</div>\n"
   ]
  },
  {
   "cell_type": "code",
   "execution_count": 8,
   "metadata": {},
   "outputs": [
    {
     "name": "stdout",
     "output_type": "stream",
     "text": [
      "Epoch 1/100\n",
      "WARNING:tensorflow:From c:\\Users\\Lenovo\\AppData\\Local\\Programs\\Python\\Python310\\lib\\site-packages\\keras\\src\\utils\\tf_utils.py:492: The name tf.ragged.RaggedTensorValue is deprecated. Please use tf.compat.v1.ragged.RaggedTensorValue instead.\n",
      "\n",
      "WARNING:tensorflow:From c:\\Users\\Lenovo\\AppData\\Local\\Programs\\Python\\Python310\\lib\\site-packages\\keras\\src\\engine\\base_layer_utils.py:384: The name tf.executing_eagerly_outside_functions is deprecated. Please use tf.compat.v1.executing_eagerly_outside_functions instead.\n",
      "\n",
      "13/13 [==============================] - 1s 18ms/step - loss: 2.1948 - accuracy: 0.2875 - val_loss: 2.0067 - val_accuracy: 0.3800\n",
      "Epoch 2/100\n",
      "13/13 [==============================] - 0s 5ms/step - loss: 1.9663 - accuracy: 0.4325 - val_loss: 1.8320 - val_accuracy: 0.4900\n",
      "Epoch 3/100\n",
      "13/13 [==============================] - 0s 8ms/step - loss: 1.7952 - accuracy: 0.5225 - val_loss: 1.6758 - val_accuracy: 0.5900\n",
      "Epoch 4/100\n",
      "13/13 [==============================] - 0s 7ms/step - loss: 1.6388 - accuracy: 0.6212 - val_loss: 1.5342 - val_accuracy: 0.6300\n",
      "Epoch 5/100\n",
      "13/13 [==============================] - 0s 5ms/step - loss: 1.4939 - accuracy: 0.6812 - val_loss: 1.4008 - val_accuracy: 0.6750\n",
      "Epoch 6/100\n",
      "13/13 [==============================] - 0s 8ms/step - loss: 1.3589 - accuracy: 0.7188 - val_loss: 1.2793 - val_accuracy: 0.7000\n",
      "Epoch 7/100\n",
      "13/13 [==============================] - 0s 4ms/step - loss: 1.2360 - accuracy: 0.7425 - val_loss: 1.1725 - val_accuracy: 0.7350\n",
      "Epoch 8/100\n",
      "13/13 [==============================] - 0s 4ms/step - loss: 1.1262 - accuracy: 0.7625 - val_loss: 1.0733 - val_accuracy: 0.7600\n",
      "Epoch 9/100\n",
      "13/13 [==============================] - 0s 4ms/step - loss: 1.0292 - accuracy: 0.7862 - val_loss: 0.9848 - val_accuracy: 0.7800\n",
      "Epoch 10/100\n",
      "13/13 [==============================] - 0s 5ms/step - loss: 0.9450 - accuracy: 0.8037 - val_loss: 0.9121 - val_accuracy: 0.7950\n",
      "Epoch 11/100\n",
      "13/13 [==============================] - 0s 5ms/step - loss: 0.8685 - accuracy: 0.8250 - val_loss: 0.8445 - val_accuracy: 0.7900\n",
      "Epoch 12/100\n",
      "13/13 [==============================] - 0s 7ms/step - loss: 0.8006 - accuracy: 0.8300 - val_loss: 0.7865 - val_accuracy: 0.8000\n",
      "Epoch 13/100\n",
      "13/13 [==============================] - 0s 7ms/step - loss: 0.7396 - accuracy: 0.8363 - val_loss: 0.7374 - val_accuracy: 0.7850\n",
      "Epoch 14/100\n",
      "13/13 [==============================] - 0s 7ms/step - loss: 0.6873 - accuracy: 0.8450 - val_loss: 0.6935 - val_accuracy: 0.8100\n",
      "Epoch 15/100\n",
      "13/13 [==============================] - 0s 6ms/step - loss: 0.6421 - accuracy: 0.8525 - val_loss: 0.6523 - val_accuracy: 0.8250\n",
      "Epoch 16/100\n",
      "13/13 [==============================] - 0s 5ms/step - loss: 0.6030 - accuracy: 0.8625 - val_loss: 0.6206 - val_accuracy: 0.8350\n",
      "Epoch 17/100\n",
      "13/13 [==============================] - 0s 6ms/step - loss: 0.5655 - accuracy: 0.8725 - val_loss: 0.5899 - val_accuracy: 0.8300\n",
      "Epoch 18/100\n",
      "13/13 [==============================] - 0s 6ms/step - loss: 0.5344 - accuracy: 0.8763 - val_loss: 0.5610 - val_accuracy: 0.8500\n",
      "Epoch 19/100\n",
      "13/13 [==============================] - 0s 5ms/step - loss: 0.5053 - accuracy: 0.8800 - val_loss: 0.5378 - val_accuracy: 0.8600\n",
      "Epoch 20/100\n",
      "13/13 [==============================] - 0s 4ms/step - loss: 0.4821 - accuracy: 0.8775 - val_loss: 0.5212 - val_accuracy: 0.8600\n",
      "Epoch 21/100\n",
      "13/13 [==============================] - 0s 5ms/step - loss: 0.4617 - accuracy: 0.8863 - val_loss: 0.5028 - val_accuracy: 0.8650\n",
      "Epoch 22/100\n",
      "13/13 [==============================] - 0s 7ms/step - loss: 0.4426 - accuracy: 0.8825 - val_loss: 0.4878 - val_accuracy: 0.8650\n",
      "Epoch 23/100\n",
      "13/13 [==============================] - 0s 4ms/step - loss: 0.4251 - accuracy: 0.8875 - val_loss: 0.4719 - val_accuracy: 0.8650\n",
      "Epoch 24/100\n",
      "13/13 [==============================] - 0s 5ms/step - loss: 0.4111 - accuracy: 0.8875 - val_loss: 0.4603 - val_accuracy: 0.8600\n",
      "Epoch 25/100\n",
      "13/13 [==============================] - 0s 5ms/step - loss: 0.3962 - accuracy: 0.8875 - val_loss: 0.4520 - val_accuracy: 0.8600\n",
      "Epoch 26/100\n",
      "13/13 [==============================] - 0s 5ms/step - loss: 0.3835 - accuracy: 0.8950 - val_loss: 0.4400 - val_accuracy: 0.8700\n",
      "Epoch 27/100\n",
      "13/13 [==============================] - 0s 5ms/step - loss: 0.3718 - accuracy: 0.8938 - val_loss: 0.4323 - val_accuracy: 0.8700\n",
      "Epoch 28/100\n",
      "13/13 [==============================] - 0s 4ms/step - loss: 0.3610 - accuracy: 0.8975 - val_loss: 0.4223 - val_accuracy: 0.8900\n",
      "Epoch 29/100\n",
      "13/13 [==============================] - 0s 4ms/step - loss: 0.3509 - accuracy: 0.9000 - val_loss: 0.4163 - val_accuracy: 0.8900\n",
      "Epoch 30/100\n",
      "13/13 [==============================] - 0s 5ms/step - loss: 0.3413 - accuracy: 0.9000 - val_loss: 0.4080 - val_accuracy: 0.8950\n",
      "Epoch 31/100\n",
      "13/13 [==============================] - 0s 8ms/step - loss: 0.3344 - accuracy: 0.9025 - val_loss: 0.4033 - val_accuracy: 0.8800\n",
      "Epoch 32/100\n",
      "13/13 [==============================] - 0s 11ms/step - loss: 0.3253 - accuracy: 0.9038 - val_loss: 0.3968 - val_accuracy: 0.8800\n",
      "Epoch 33/100\n",
      "13/13 [==============================] - 0s 6ms/step - loss: 0.3188 - accuracy: 0.9100 - val_loss: 0.3915 - val_accuracy: 0.8850\n",
      "Epoch 34/100\n",
      "13/13 [==============================] - 0s 5ms/step - loss: 0.3110 - accuracy: 0.9100 - val_loss: 0.3872 - val_accuracy: 0.8800\n",
      "Epoch 35/100\n",
      "13/13 [==============================] - 0s 9ms/step - loss: 0.3048 - accuracy: 0.9087 - val_loss: 0.3823 - val_accuracy: 0.8850\n",
      "Epoch 36/100\n",
      "13/13 [==============================] - 0s 4ms/step - loss: 0.2978 - accuracy: 0.9125 - val_loss: 0.3745 - val_accuracy: 0.8850\n",
      "Epoch 37/100\n",
      "13/13 [==============================] - 0s 4ms/step - loss: 0.2926 - accuracy: 0.9100 - val_loss: 0.3737 - val_accuracy: 0.8800\n",
      "Epoch 38/100\n",
      "13/13 [==============================] - 0s 5ms/step - loss: 0.2861 - accuracy: 0.9175 - val_loss: 0.3681 - val_accuracy: 0.8850\n",
      "Epoch 39/100\n",
      "13/13 [==============================] - 0s 7ms/step - loss: 0.2818 - accuracy: 0.9125 - val_loss: 0.3673 - val_accuracy: 0.8750\n",
      "Epoch 40/100\n",
      "13/13 [==============================] - 0s 7ms/step - loss: 0.2769 - accuracy: 0.9187 - val_loss: 0.3613 - val_accuracy: 0.8850\n",
      "Epoch 41/100\n",
      "13/13 [==============================] - 0s 7ms/step - loss: 0.2704 - accuracy: 0.9162 - val_loss: 0.3617 - val_accuracy: 0.8900\n",
      "Epoch 42/100\n",
      "13/13 [==============================] - 0s 6ms/step - loss: 0.2669 - accuracy: 0.9175 - val_loss: 0.3597 - val_accuracy: 0.8900\n",
      "Epoch 43/100\n",
      "13/13 [==============================] - 0s 6ms/step - loss: 0.2624 - accuracy: 0.9175 - val_loss: 0.3570 - val_accuracy: 0.8850\n",
      "Epoch 44/100\n",
      "13/13 [==============================] - 0s 4ms/step - loss: 0.2574 - accuracy: 0.9237 - val_loss: 0.3512 - val_accuracy: 0.8950\n",
      "Epoch 45/100\n",
      "13/13 [==============================] - 0s 4ms/step - loss: 0.2533 - accuracy: 0.9225 - val_loss: 0.3512 - val_accuracy: 0.8850\n",
      "Epoch 46/100\n",
      "13/13 [==============================] - 0s 4ms/step - loss: 0.2507 - accuracy: 0.9187 - val_loss: 0.3490 - val_accuracy: 0.8850\n",
      "Epoch 47/100\n",
      "13/13 [==============================] - 0s 5ms/step - loss: 0.2462 - accuracy: 0.9225 - val_loss: 0.3444 - val_accuracy: 0.8900\n",
      "Epoch 48/100\n",
      "13/13 [==============================] - 0s 7ms/step - loss: 0.2423 - accuracy: 0.9262 - val_loss: 0.3445 - val_accuracy: 0.8900\n",
      "Epoch 49/100\n",
      "13/13 [==============================] - 0s 5ms/step - loss: 0.2384 - accuracy: 0.9275 - val_loss: 0.3422 - val_accuracy: 0.8850\n",
      "Epoch 50/100\n",
      "13/13 [==============================] - 0s 5ms/step - loss: 0.2354 - accuracy: 0.9262 - val_loss: 0.3401 - val_accuracy: 0.8950\n",
      "Epoch 51/100\n",
      "13/13 [==============================] - 0s 4ms/step - loss: 0.2326 - accuracy: 0.9262 - val_loss: 0.3388 - val_accuracy: 0.8900\n",
      "Epoch 52/100\n",
      "13/13 [==============================] - 0s 4ms/step - loss: 0.2282 - accuracy: 0.9300 - val_loss: 0.3366 - val_accuracy: 0.8950\n",
      "Epoch 53/100\n",
      "13/13 [==============================] - 0s 4ms/step - loss: 0.2258 - accuracy: 0.9300 - val_loss: 0.3354 - val_accuracy: 0.8950\n",
      "Epoch 54/100\n",
      "13/13 [==============================] - 0s 4ms/step - loss: 0.2217 - accuracy: 0.9287 - val_loss: 0.3346 - val_accuracy: 0.8900\n",
      "Epoch 55/100\n",
      "13/13 [==============================] - 0s 4ms/step - loss: 0.2195 - accuracy: 0.9325 - val_loss: 0.3316 - val_accuracy: 0.8950\n",
      "Epoch 56/100\n",
      "13/13 [==============================] - 0s 5ms/step - loss: 0.2169 - accuracy: 0.9350 - val_loss: 0.3302 - val_accuracy: 0.8950\n",
      "Epoch 57/100\n",
      "13/13 [==============================] - 0s 4ms/step - loss: 0.2137 - accuracy: 0.9325 - val_loss: 0.3262 - val_accuracy: 0.9000\n",
      "Epoch 58/100\n",
      "13/13 [==============================] - 0s 4ms/step - loss: 0.2119 - accuracy: 0.9350 - val_loss: 0.3258 - val_accuracy: 0.9000\n",
      "Epoch 59/100\n",
      "13/13 [==============================] - 0s 4ms/step - loss: 0.2082 - accuracy: 0.9312 - val_loss: 0.3264 - val_accuracy: 0.8950\n",
      "Epoch 60/100\n",
      "13/13 [==============================] - 0s 4ms/step - loss: 0.2055 - accuracy: 0.9362 - val_loss: 0.3232 - val_accuracy: 0.8950\n",
      "Epoch 61/100\n",
      "13/13 [==============================] - 0s 4ms/step - loss: 0.2031 - accuracy: 0.9388 - val_loss: 0.3244 - val_accuracy: 0.9000\n",
      "Epoch 62/100\n",
      "13/13 [==============================] - 0s 4ms/step - loss: 0.1999 - accuracy: 0.9388 - val_loss: 0.3213 - val_accuracy: 0.8950\n",
      "Epoch 63/100\n",
      "13/13 [==============================] - 0s 4ms/step - loss: 0.1988 - accuracy: 0.9388 - val_loss: 0.3190 - val_accuracy: 0.9100\n",
      "Epoch 64/100\n",
      "13/13 [==============================] - 0s 9ms/step - loss: 0.1950 - accuracy: 0.9425 - val_loss: 0.3199 - val_accuracy: 0.9000\n",
      "Epoch 65/100\n",
      "13/13 [==============================] - 0s 4ms/step - loss: 0.1947 - accuracy: 0.9388 - val_loss: 0.3173 - val_accuracy: 0.9000\n",
      "Epoch 66/100\n",
      "13/13 [==============================] - 0s 4ms/step - loss: 0.1905 - accuracy: 0.9438 - val_loss: 0.3162 - val_accuracy: 0.9050\n",
      "Epoch 67/100\n",
      "13/13 [==============================] - 0s 6ms/step - loss: 0.1884 - accuracy: 0.9425 - val_loss: 0.3163 - val_accuracy: 0.9050\n",
      "Epoch 68/100\n",
      "13/13 [==============================] - 0s 8ms/step - loss: 0.1860 - accuracy: 0.9388 - val_loss: 0.3146 - val_accuracy: 0.9100\n",
      "Epoch 69/100\n",
      "13/13 [==============================] - 0s 7ms/step - loss: 0.1843 - accuracy: 0.9463 - val_loss: 0.3159 - val_accuracy: 0.9100\n",
      "Epoch 70/100\n",
      "13/13 [==============================] - 0s 7ms/step - loss: 0.1815 - accuracy: 0.9425 - val_loss: 0.3183 - val_accuracy: 0.9050\n",
      "Epoch 71/100\n",
      "13/13 [==============================] - 0s 7ms/step - loss: 0.1804 - accuracy: 0.9463 - val_loss: 0.3163 - val_accuracy: 0.9050\n",
      "Epoch 72/100\n",
      "13/13 [==============================] - 0s 5ms/step - loss: 0.1780 - accuracy: 0.9450 - val_loss: 0.3174 - val_accuracy: 0.9100\n",
      "Epoch 73/100\n",
      "13/13 [==============================] - 0s 4ms/step - loss: 0.1764 - accuracy: 0.9475 - val_loss: 0.3143 - val_accuracy: 0.9050\n",
      "Epoch 74/100\n",
      "13/13 [==============================] - 0s 5ms/step - loss: 0.1740 - accuracy: 0.9488 - val_loss: 0.3153 - val_accuracy: 0.9000\n",
      "Epoch 75/100\n",
      "13/13 [==============================] - 0s 4ms/step - loss: 0.1721 - accuracy: 0.9525 - val_loss: 0.3150 - val_accuracy: 0.9050\n",
      "Epoch 76/100\n",
      "13/13 [==============================] - 0s 4ms/step - loss: 0.1700 - accuracy: 0.9525 - val_loss: 0.3140 - val_accuracy: 0.9050\n",
      "Epoch 77/100\n",
      "13/13 [==============================] - 0s 4ms/step - loss: 0.1684 - accuracy: 0.9513 - val_loss: 0.3133 - val_accuracy: 0.9050\n",
      "Epoch 78/100\n",
      "13/13 [==============================] - 0s 4ms/step - loss: 0.1661 - accuracy: 0.9525 - val_loss: 0.3145 - val_accuracy: 0.9050\n",
      "Epoch 79/100\n",
      "13/13 [==============================] - 0s 4ms/step - loss: 0.1643 - accuracy: 0.9463 - val_loss: 0.3155 - val_accuracy: 0.8950\n",
      "Epoch 80/100\n",
      "13/13 [==============================] - 0s 5ms/step - loss: 0.1622 - accuracy: 0.9525 - val_loss: 0.3139 - val_accuracy: 0.9050\n",
      "Epoch 81/100\n",
      "13/13 [==============================] - 0s 6ms/step - loss: 0.1615 - accuracy: 0.9550 - val_loss: 0.3109 - val_accuracy: 0.9050\n",
      "Epoch 82/100\n",
      "13/13 [==============================] - 0s 6ms/step - loss: 0.1580 - accuracy: 0.9550 - val_loss: 0.3116 - val_accuracy: 0.9050\n",
      "Epoch 83/100\n",
      "13/13 [==============================] - 0s 6ms/step - loss: 0.1567 - accuracy: 0.9575 - val_loss: 0.3128 - val_accuracy: 0.9000\n",
      "Epoch 84/100\n",
      "13/13 [==============================] - 0s 7ms/step - loss: 0.1556 - accuracy: 0.9563 - val_loss: 0.3142 - val_accuracy: 0.9000\n",
      "Epoch 85/100\n",
      "13/13 [==============================] - 0s 11ms/step - loss: 0.1542 - accuracy: 0.9563 - val_loss: 0.3115 - val_accuracy: 0.8950\n",
      "Epoch 86/100\n",
      "13/13 [==============================] - 0s 6ms/step - loss: 0.1508 - accuracy: 0.9563 - val_loss: 0.3117 - val_accuracy: 0.9000\n",
      "Epoch 87/100\n",
      "13/13 [==============================] - 0s 6ms/step - loss: 0.1498 - accuracy: 0.9625 - val_loss: 0.3099 - val_accuracy: 0.9050\n",
      "Epoch 88/100\n",
      "13/13 [==============================] - 0s 6ms/step - loss: 0.1478 - accuracy: 0.9588 - val_loss: 0.3122 - val_accuracy: 0.9050\n",
      "Epoch 89/100\n",
      "13/13 [==============================] - 0s 6ms/step - loss: 0.1474 - accuracy: 0.9625 - val_loss: 0.3085 - val_accuracy: 0.9000\n",
      "Epoch 90/100\n",
      "13/13 [==============================] - 0s 6ms/step - loss: 0.1451 - accuracy: 0.9625 - val_loss: 0.3094 - val_accuracy: 0.9000\n",
      "Epoch 91/100\n",
      "13/13 [==============================] - 0s 5ms/step - loss: 0.1430 - accuracy: 0.9625 - val_loss: 0.3126 - val_accuracy: 0.9050\n",
      "Epoch 92/100\n",
      "13/13 [==============================] - 0s 6ms/step - loss: 0.1424 - accuracy: 0.9613 - val_loss: 0.3149 - val_accuracy: 0.8950\n",
      "Epoch 93/100\n",
      "13/13 [==============================] - 0s 6ms/step - loss: 0.1403 - accuracy: 0.9650 - val_loss: 0.3132 - val_accuracy: 0.9000\n",
      "Epoch 94/100\n",
      "13/13 [==============================] - 0s 5ms/step - loss: 0.1385 - accuracy: 0.9600 - val_loss: 0.3121 - val_accuracy: 0.9050\n",
      "Epoch 95/100\n",
      "13/13 [==============================] - 0s 6ms/step - loss: 0.1368 - accuracy: 0.9700 - val_loss: 0.3164 - val_accuracy: 0.9000\n",
      "Epoch 96/100\n",
      "13/13 [==============================] - 0s 5ms/step - loss: 0.1367 - accuracy: 0.9675 - val_loss: 0.3120 - val_accuracy: 0.9000\n",
      "Epoch 97/100\n",
      "13/13 [==============================] - 0s 5ms/step - loss: 0.1339 - accuracy: 0.9700 - val_loss: 0.3136 - val_accuracy: 0.9050\n",
      "Epoch 98/100\n",
      "13/13 [==============================] - 0s 6ms/step - loss: 0.1340 - accuracy: 0.9725 - val_loss: 0.3135 - val_accuracy: 0.8950\n",
      "Epoch 99/100\n",
      "13/13 [==============================] - 0s 6ms/step - loss: 0.1321 - accuracy: 0.9688 - val_loss: 0.3117 - val_accuracy: 0.8950\n",
      "Epoch 100/100\n",
      "13/13 [==============================] - 0s 5ms/step - loss: 0.1302 - accuracy: 0.9688 - val_loss: 0.3113 - val_accuracy: 0.9000\n"
     ]
    }
   ],
   "source": [
    "history = model.fit(x_train, y_train,\n",
    "          epochs=100,\n",
    "          batch_size=64, validation_split=0.2)"
   ]
  },
  {
   "cell_type": "code",
   "execution_count": 9,
   "metadata": {},
   "outputs": [],
   "source": [
    "import matplotlib.pyplot as plt\n",
    "%matplotlib inline"
   ]
  },
  {
   "cell_type": "code",
   "execution_count": 10,
   "metadata": {},
   "outputs": [
    {
     "data": {
      "text/plain": [
       "[<matplotlib.lines.Line2D at 0x2754c758550>]"
      ]
     },
     "execution_count": 10,
     "metadata": {},
     "output_type": "execute_result"
    },
    {
     "data": {
      "image/png": "[encoded data removed]",
      "text/plain": [
       "<Figure size 640x480 with 1 Axes>"
      ]
     },
     "metadata": {},
     "output_type": "display_data"
    }
   ],
   "source": [
    "plt.plot(history.history['val_accuracy'])"
   ]
  },
  {
   "cell_type": "markdown",
   "metadata": {},
   "source": [
    "## <div style=\"direction:rtl;text-align:right;font-family:B Lotus, B Nazanin, Tahoma\">ارزیابی مدل روی داده های آزمون</div>"
   ]
  },
  {
   "cell_type": "code",
   "execution_count": 11,
   "metadata": {},
   "outputs": [
    {
     "name": "stdout",
     "output_type": "stream",
     "text": [
      "7/7 [==============================] - 0s 2ms/step - loss: 0.2654 - accuracy: 0.9150\n",
      "\n",
      "Testing loss: 0.27, acc: 0.92%\n"
     ]
    }
   ],
   "source": [
    "loss, acc = model.evaluate(x_test, y_test)\n",
    "print('\\nTesting loss: %.2f, acc: %.2f%%'%(loss, acc))"
   ]
  },
  {
   "cell_type": "markdown",
   "metadata": {},
   "source": [
    "## <div style=\"direction:rtl;text-align:right;font-family:B Lotus, B Nazanin, Tahoma\">پیش‌بینی داده‌های آموزشی</div>\n"
   ]
  },
  {
   "cell_type": "code",
   "execution_count": null,
   "metadata": {},
   "outputs": [],
   "source": [
    "from sklearn.metrics import confusion_matrix\n",
    "plt.matshow(confusion_matrix(y_test_original, predicted_classes), cmap=\"Blues\")\n",
    "plt.xticks(range(10))\n",
    "plt.yticks(range(10))\n",
    "plt.xlabel(\"Predicted label\")\n",
    "plt.ylabel(\"True label\");"
   ]
  }
 ],
 "metadata": {
  "anaconda-cloud": {},
  "kernelspec": {
   "display_name": "Python 3",
   "language": "python",
   "name": "python3"
  },
  "language_info": {
   "codemirror_mode": {
    "name": "ipython",
    "version": 3
   },
   "file_extension": ".py",
   "mimetype": "text/x-python",
   "name": "python",
   "nbconvert_exporter": "python",
   "pygments_lexer": "ipython3",
   "version": "3.10.5"
  },
  "nbpresent": {
   "slides": {
    "300ee14f-a043-486e-b274-7ff253907cd7": {
     "id": "300ee14f-a043-486e-b274-7ff253907cd7",
     "prev": "cb74e0bc-4513-4d13-b7f1-14c3078a7927",
     "regions": {
      "26dc3f39-a230-447c-af4c-f5e5b2fb7835": {
       "attrs": {
        "height": 0.8,
        "width": 0.8,
        "x": 0.1,
        "y": 0.1
       },
       "content": {
        "cell": "c58440a5-3f8f-4f37-9c79-6bf766209406",
        "part": "whole"
       },
       "id": "26dc3f39-a230-447c-af4c-f5e5b2fb7835"
      }
     }
    },
    "878aa53a-1444-4100-8f50-7a408191c579": {
     "id": "878aa53a-1444-4100-8f50-7a408191c579",
     "prev": null,
     "regions": {
      "a6c6843a-5ea6-4fbc-b890-3b4b8ae475b3": {
       "attrs": {
        "height": 0.8,
        "width": 0.8,
        "x": 0.1,
        "y": 0.1
       },
       "content": {
        "cell": "588ee1fa-64b5-453b-ade7-8e6b2515821c",
        "part": "whole"
       },
       "id": "a6c6843a-5ea6-4fbc-b890-3b4b8ae475b3"
      }
     }
    },
    "96ffe88e-7b50-43de-afdd-942e564f4e3e": {
     "id": "96ffe88e-7b50-43de-afdd-942e564f4e3e",
     "prev": "878aa53a-1444-4100-8f50-7a408191c579",
     "regions": {
      "b7e52e12-489a-468d-b10c-af2024fd2856": {
       "attrs": {
        "height": 0.8,
        "width": 0.8,
        "x": 0.1,
        "y": 0.1
       },
       "content": {
        "cell": "de829a92-1fb6-44ad-a2c6-fc1001e1f6e1",
        "part": "whole"
       },
       "id": "b7e52e12-489a-468d-b10c-af2024fd2856"
      }
     }
    },
    "cb74e0bc-4513-4d13-b7f1-14c3078a7927": {
     "id": "cb74e0bc-4513-4d13-b7f1-14c3078a7927",
     "prev": "96ffe88e-7b50-43de-afdd-942e564f4e3e",
     "regions": {
      "444878ee-68f3-4abb-acff-a7079b21e86d": {
       "attrs": {
        "height": 0.8,
        "width": 0.8,
        "x": 0.1,
        "y": 0.1
       },
       "content": {
        "cell": "25f3f538-1ee8-4d98-a6bb-14cbeb7a702d",
        "part": "whole"
       },
       "id": "444878ee-68f3-4abb-acff-a7079b21e86d"
      }
     }
    }
   },
   "themes": {}
  }
 },
 "nbformat": 4,
 "nbformat_minor": 2
}
