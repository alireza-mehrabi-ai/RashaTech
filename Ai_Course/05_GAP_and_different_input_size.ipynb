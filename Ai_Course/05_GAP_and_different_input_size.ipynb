{
 "cells": [
  {
   "cell_type": "code",
   "execution_count": 1,
   "metadata": {
    "id": "w2_JpR-JUIrj"
   },
   "outputs": [
    {
     "name": "stdout",
     "output_type": "stream",
     "text": [
      "WARNING:tensorflow:From c:\\Users\\Lenovo\\AppData\\Local\\Programs\\Python\\Python310\\lib\\site-packages\\keras\\src\\losses.py:2976: The name tf.losses.sparse_softmax_cross_entropy is deprecated. Please use tf.compat.v1.losses.sparse_softmax_cross_entropy instead.\n",
      "\n"
     ]
    }
   ],
   "source": [
    "# 1. Import libraries and modules\n",
    "from tensorflow import keras\n",
    "from keras import layers\n",
    "from keras.models import Sequential\n",
    "from keras.layers import Dense, Dropout\n",
    "import numpy as np\n",
    "from dataset import load_hoda\n",
    "import matplotlib.pyplot as plt"
   ]
  },
  {
   "cell_type": "code",
   "execution_count": 2,
   "metadata": {
    "id": "nLiGoekmUKt6"
   },
   "outputs": [],
   "source": [
    "# Load pre-shuffled HODA data into train and test sets\n",
    "X_train, y_train, X_test, y_test = load_hoda(\n",
    "                                            training_sample_size=3500,\n",
    "                                            test_sample_size=400,size=32)"
   ]
  },
  {
   "cell_type": "markdown",
   "metadata": {
    "id": "Q00uVKx_UZhF"
   },
   "source": [
    "# reshape"
   ]
  },
  {
   "cell_type": "code",
   "execution_count": 3,
   "metadata": {
    "colab": {
     "base_uri": "https://localhost:8080/"
    },
    "id": "bO6hlQCsUYh-",
    "outputId": "6bcffd4e-6c15-4a53-bfbe-986ab36623b8"
   },
   "outputs": [
    {
     "data": {
      "text/plain": [
       "(3500, 32, 32, 1)"
      ]
     },
     "execution_count": 3,
     "metadata": {},
     "output_type": "execute_result"
    }
   ],
   "source": [
    "\n",
    "# Reshape to original image shape (n x 784)  ==> (n x 28 x 28 x 1)\n",
    "X_train_32 = X_train.reshape(-1,32,32,1)\n",
    "X_test_32 = X_test.reshape(-1,32,32,1)\n",
    "X_train_32.shape"
   ]
  },
  {
   "cell_type": "code",
   "execution_count": 4,
   "metadata": {
    "id": "OdESfQ_RWDc-"
   },
   "outputs": [],
   "source": [
    "import cv2\n",
    "import numpy as np"
   ]
  },
  {
   "cell_type": "code",
   "execution_count": 5,
   "metadata": {
    "id": "KQtI0ydoWGq_"
   },
   "outputs": [],
   "source": [
    "X_train_28 = np.zeros((X_train_32.shape[0], 28, 28, 1))\n",
    "for i in range(X_train_32.shape[0]):\n",
    "    # Resize the sample from shape (32, 32, 1) to shape (28, 28, 1) using OpenCV\n",
    "    resized_sample = cv2.resize(X_train_32[i], (28, 28), interpolation=cv2.INTER_AREA)\n",
    "    # Assign the resized sample to the corresponding index in the new numpy array\n",
    "    X_train_28[i] = resized_sample.reshape((28, 28, 1))\n",
    "\n",
    "X_test_28 = np.zeros((X_test_32.shape[0], 28, 28, 1))\n",
    "for i in range(X_test_32.shape[0]):\n",
    "    # Resize the sample from shape (32, 32, 1) to shape (28, 28, 1) using OpenCV\n",
    "    resized_sample = cv2.resize(X_test_32[i], (28, 28), interpolation=cv2.INTER_AREA)\n",
    "    # Assign the resized sample to the corresponding index in the new numpy array\n",
    "    X_test_28[i] = resized_sample.reshape((28, 28, 1))"
   ]
  },
  {
   "cell_type": "code",
   "execution_count": 6,
   "metadata": {
    "id": "s41UhdhCWtPA"
   },
   "outputs": [],
   "source": [
    "import matplotlib.pyplot as plt"
   ]
  },
  {
   "cell_type": "code",
   "execution_count": 7,
   "metadata": {
    "colab": {
     "base_uri": "https://localhost:8080/",
     "height": 447
    },
    "id": "GChfkuUFWv5P",
    "outputId": "3dcd386b-1ca0-42ed-8491-1075e11182ca"
   },
   "outputs": [
    {
     "data": {
      "text/plain": [
       "<matplotlib.image.AxesImage at 0x19a82c492a0>"
      ]
     },
     "execution_count": 7,
     "metadata": {},
     "output_type": "execute_result"
    },
    {
     "data": {
      "image/png": "[encoded data removed]",
      "text/plain": [
       "<Figure size 640x480 with 1 Axes>"
      ]
     },
     "metadata": {},
     "output_type": "display_data"
    }
   ],
   "source": [
    "plt.imshow(X_test_32[0][:,:,0], cmap='gray')"
   ]
  },
  {
   "cell_type": "code",
   "execution_count": 8,
   "metadata": {
    "colab": {
     "base_uri": "https://localhost:8080/",
     "height": 447
    },
    "id": "mcbcgT0jW8SK",
    "outputId": "8a1fd724-8612-4855-f03b-f2ab01227207"
   },
   "outputs": [
    {
     "data": {
      "text/plain": [
       "<matplotlib.image.AxesImage at 0x19a82b96b60>"
      ]
     },
     "execution_count": 8,
     "metadata": {},
     "output_type": "execute_result"
    },
    {
     "data": {
      "image/png": "[encoded data removed]",
      "text/plain": [
       "<Figure size 640x480 with 1 Axes>"
      ]
     },
     "metadata": {},
     "output_type": "display_data"
    }
   ],
   "source": [
    "plt.imshow(X_test_28[0][:,:,0], cmap='gray')"
   ]
  },
  {
   "cell_type": "code",
   "execution_count": 9,
   "metadata": {
    "id": "Vx4hms5gXJX3"
   },
   "outputs": [],
   "source": [
    "# Preprocess input data\n",
    "'''normalize our data values to the range [0, 1]'''\n",
    "X_train_32 = X_train_32.astype('float32')\n",
    "X_test_32 = X_test_32.astype('float32')\n",
    "X_train_32 /= 255\n",
    "X_test_32 /= 255\n",
    "\n",
    "# Preprocess input data\n",
    "'''normalize our data values to the range [0, 1]'''\n",
    "X_train_28 = X_train_28.astype('float32')\n",
    "X_test_28 = X_test_28.astype('float32')\n",
    "X_train_28 /= 255\n",
    "X_test_28 /= 255\n"
   ]
  },
  {
   "cell_type": "code",
   "execution_count": 10,
   "metadata": {
    "id": "Sx0KSwPFXeDN"
   },
   "outputs": [],
   "source": [
    "\n",
    "# 4. Preprocess class labels\n",
    "y_train = keras.utils.to_categorical(y_train)\n",
    "y_test = keras.utils.to_categorical(y_test)\n"
   ]
  },
  {
   "cell_type": "code",
   "execution_count": null,
   "metadata": {
    "id": "nZNLmXLWXfLh"
   },
   "outputs": [],
   "source": []
  },
  {
   "cell_type": "markdown",
   "metadata": {
    "id": "ou-11_zFXf17"
   },
   "source": [
    "# 1st senario"
   ]
  },
  {
   "cell_type": "code",
   "execution_count": 11,
   "metadata": {
    "colab": {
     "base_uri": "https://localhost:8080/"
    },
    "id": "LeUFlv4nT9zM",
    "outputId": "676827a8-6e48-4821-d822-2fac991851d1"
   },
   "outputs": [
    {
     "name": "stdout",
     "output_type": "stream",
     "text": [
      "WARNING:tensorflow:From c:\\Users\\Lenovo\\AppData\\Local\\Programs\\Python\\Python310\\lib\\site-packages\\keras\\src\\backend.py:873: The name tf.get_default_graph is deprecated. Please use tf.compat.v1.get_default_graph instead.\n",
      "\n",
      "WARNING:tensorflow:From c:\\Users\\Lenovo\\AppData\\Local\\Programs\\Python\\Python310\\lib\\site-packages\\keras\\src\\layers\\pooling\\max_pooling2d.py:161: The name tf.nn.max_pool is deprecated. Please use tf.nn.max_pool2d instead.\n",
      "\n",
      "WARNING:tensorflow:From c:\\Users\\Lenovo\\AppData\\Local\\Programs\\Python\\Python310\\lib\\site-packages\\keras\\src\\optimizers\\__init__.py:309: The name tf.train.Optimizer is deprecated. Please use tf.compat.v1.train.Optimizer instead.\n",
      "\n",
      "Epoch 1/200\n",
      "WARNING:tensorflow:From c:\\Users\\Lenovo\\AppData\\Local\\Programs\\Python\\Python310\\lib\\site-packages\\keras\\src\\utils\\tf_utils.py:492: The name tf.ragged.RaggedTensorValue is deprecated. Please use tf.compat.v1.ragged.RaggedTensorValue instead.\n",
      "\n",
      "WARNING:tensorflow:From c:\\Users\\Lenovo\\AppData\\Local\\Programs\\Python\\Python310\\lib\\site-packages\\keras\\src\\engine\\base_layer_utils.py:384: The name tf.executing_eagerly_outside_functions is deprecated. Please use tf.compat.v1.executing_eagerly_outside_functions instead.\n",
      "\n",
      "11/11 [==============================] - 2s 74ms/step - loss: 2.1711 - accuracy: 0.2493 - val_loss: 1.8325 - val_accuracy: 0.5186\n",
      "Epoch 2/200\n",
      "11/11 [==============================] - 0s 40ms/step - loss: 1.5869 - accuracy: 0.4682 - val_loss: 0.9635 - val_accuracy: 0.7329\n",
      "Epoch 3/200\n",
      "11/11 [==============================] - 0s 45ms/step - loss: 1.0861 - accuracy: 0.6204 - val_loss: 0.6032 - val_accuracy: 0.8243\n",
      "Epoch 4/200\n",
      "11/11 [==============================] - 0s 37ms/step - loss: 0.8342 - accuracy: 0.7082 - val_loss: 0.4531 - val_accuracy: 0.8671\n",
      "Epoch 5/200\n",
      "11/11 [==============================] - 1s 45ms/step - loss: 0.6650 - accuracy: 0.7761 - val_loss: 0.3773 - val_accuracy: 0.8771\n",
      "Epoch 6/200\n",
      "11/11 [==============================] - 0s 38ms/step - loss: 0.5754 - accuracy: 0.8136 - val_loss: 0.3036 - val_accuracy: 0.9043\n",
      "Epoch 7/200\n",
      "11/11 [==============================] - 0s 39ms/step - loss: 0.4931 - accuracy: 0.8436 - val_loss: 0.2423 - val_accuracy: 0.9129\n",
      "Epoch 8/200\n",
      "11/11 [==============================] - 0s 43ms/step - loss: 0.4450 - accuracy: 0.8446 - val_loss: 0.2324 - val_accuracy: 0.9143\n",
      "Epoch 9/200\n",
      "11/11 [==============================] - 0s 43ms/step - loss: 0.3798 - accuracy: 0.8786 - val_loss: 0.1931 - val_accuracy: 0.9343\n",
      "Epoch 10/200\n",
      "11/11 [==============================] - 0s 39ms/step - loss: 0.3331 - accuracy: 0.8946 - val_loss: 0.1815 - val_accuracy: 0.9386\n",
      "Epoch 11/200\n",
      "11/11 [==============================] - 0s 39ms/step - loss: 0.2952 - accuracy: 0.8986 - val_loss: 0.1713 - val_accuracy: 0.9386\n",
      "Epoch 12/200\n",
      "11/11 [==============================] - 0s 38ms/step - loss: 0.2709 - accuracy: 0.9164 - val_loss: 0.1471 - val_accuracy: 0.9500\n",
      "Epoch 13/200\n",
      "11/11 [==============================] - 0s 37ms/step - loss: 0.2450 - accuracy: 0.9214 - val_loss: 0.1507 - val_accuracy: 0.9486\n",
      "Epoch 14/200\n",
      "11/11 [==============================] - 0s 38ms/step - loss: 0.2351 - accuracy: 0.9211 - val_loss: 0.1503 - val_accuracy: 0.9457\n",
      "Epoch 15/200\n",
      "11/11 [==============================] - 0s 37ms/step - loss: 0.2289 - accuracy: 0.9221 - val_loss: 0.1365 - val_accuracy: 0.9543\n",
      "Epoch 16/200\n",
      "11/11 [==============================] - 0s 37ms/step - loss: 0.2169 - accuracy: 0.9307 - val_loss: 0.1307 - val_accuracy: 0.9586\n",
      "Epoch 17/200\n",
      "11/11 [==============================] - 1s 46ms/step - loss: 0.2099 - accuracy: 0.9318 - val_loss: 0.1232 - val_accuracy: 0.9600\n",
      "Epoch 18/200\n",
      "11/11 [==============================] - 0s 40ms/step - loss: 0.2007 - accuracy: 0.9336 - val_loss: 0.1311 - val_accuracy: 0.9557\n",
      "Epoch 19/200\n",
      "11/11 [==============================] - 0s 37ms/step - loss: 0.1837 - accuracy: 0.9389 - val_loss: 0.1255 - val_accuracy: 0.9557\n",
      "Epoch 20/200\n",
      "11/11 [==============================] - 0s 40ms/step - loss: 0.1860 - accuracy: 0.9407 - val_loss: 0.1329 - val_accuracy: 0.9529\n",
      "Epoch 21/200\n",
      "11/11 [==============================] - 0s 37ms/step - loss: 0.1666 - accuracy: 0.9521 - val_loss: 0.1050 - val_accuracy: 0.9600\n",
      "Epoch 22/200\n",
      "11/11 [==============================] - 0s 37ms/step - loss: 0.1592 - accuracy: 0.9489 - val_loss: 0.1100 - val_accuracy: 0.9557\n",
      "Epoch 23/200\n",
      "11/11 [==============================] - 0s 36ms/step - loss: 0.1354 - accuracy: 0.9568 - val_loss: 0.0960 - val_accuracy: 0.9643\n",
      "Epoch 24/200\n",
      "11/11 [==============================] - 0s 37ms/step - loss: 0.1508 - accuracy: 0.9493 - val_loss: 0.1173 - val_accuracy: 0.9600\n",
      "Epoch 25/200\n",
      "11/11 [==============================] - 0s 42ms/step - loss: 0.1415 - accuracy: 0.9536 - val_loss: 0.0929 - val_accuracy: 0.9614\n",
      "Epoch 26/200\n",
      "11/11 [==============================] - 0s 37ms/step - loss: 0.1226 - accuracy: 0.9621 - val_loss: 0.1024 - val_accuracy: 0.9614\n",
      "Epoch 27/200\n",
      "11/11 [==============================] - 0s 38ms/step - loss: 0.1258 - accuracy: 0.9600 - val_loss: 0.1140 - val_accuracy: 0.9586\n",
      "Epoch 28/200\n",
      "11/11 [==============================] - 0s 37ms/step - loss: 0.1197 - accuracy: 0.9593 - val_loss: 0.1017 - val_accuracy: 0.9629\n",
      "Epoch 29/200\n",
      "11/11 [==============================] - 0s 37ms/step - loss: 0.1209 - accuracy: 0.9561 - val_loss: 0.0927 - val_accuracy: 0.9643\n",
      "Epoch 30/200\n",
      "11/11 [==============================] - 0s 41ms/step - loss: 0.1247 - accuracy: 0.9575 - val_loss: 0.0999 - val_accuracy: 0.9600\n",
      "Epoch 31/200\n",
      "11/11 [==============================] - 0s 38ms/step - loss: 0.1144 - accuracy: 0.9596 - val_loss: 0.0881 - val_accuracy: 0.9657\n",
      "Epoch 32/200\n",
      "11/11 [==============================] - 0s 41ms/step - loss: 0.1031 - accuracy: 0.9671 - val_loss: 0.0965 - val_accuracy: 0.9671\n",
      "Epoch 33/200\n",
      "11/11 [==============================] - 0s 38ms/step - loss: 0.1102 - accuracy: 0.9593 - val_loss: 0.0878 - val_accuracy: 0.9700\n",
      "Epoch 34/200\n",
      "11/11 [==============================] - 0s 37ms/step - loss: 0.0909 - accuracy: 0.9679 - val_loss: 0.0941 - val_accuracy: 0.9643\n",
      "Epoch 35/200\n",
      "11/11 [==============================] - 0s 37ms/step - loss: 0.1040 - accuracy: 0.9654 - val_loss: 0.0969 - val_accuracy: 0.9657\n",
      "Epoch 36/200\n",
      "11/11 [==============================] - 0s 37ms/step - loss: 0.0833 - accuracy: 0.9754 - val_loss: 0.0974 - val_accuracy: 0.9657\n",
      "Epoch 37/200\n",
      "11/11 [==============================] - 0s 37ms/step - loss: 0.0868 - accuracy: 0.9682 - val_loss: 0.1001 - val_accuracy: 0.9657\n",
      "Epoch 38/200\n",
      "11/11 [==============================] - 0s 44ms/step - loss: 0.0781 - accuracy: 0.9750 - val_loss: 0.0872 - val_accuracy: 0.9686\n",
      "Epoch 39/200\n",
      "11/11 [==============================] - 1s 47ms/step - loss: 0.0829 - accuracy: 0.9736 - val_loss: 0.0994 - val_accuracy: 0.9629\n",
      "Epoch 40/200\n",
      "11/11 [==============================] - 0s 37ms/step - loss: 0.0822 - accuracy: 0.9725 - val_loss: 0.0927 - val_accuracy: 0.9657\n",
      "Epoch 41/200\n",
      "11/11 [==============================] - 0s 34ms/step - loss: 0.0741 - accuracy: 0.9718 - val_loss: 0.0919 - val_accuracy: 0.9714\n",
      "Epoch 42/200\n",
      "11/11 [==============================] - 0s 34ms/step - loss: 0.0733 - accuracy: 0.9736 - val_loss: 0.1005 - val_accuracy: 0.9700\n",
      "Epoch 43/200\n",
      "11/11 [==============================] - 0s 34ms/step - loss: 0.0811 - accuracy: 0.9693 - val_loss: 0.0913 - val_accuracy: 0.9686\n",
      "Epoch 44/200\n",
      "11/11 [==============================] - 0s 34ms/step - loss: 0.0784 - accuracy: 0.9729 - val_loss: 0.0953 - val_accuracy: 0.9671\n",
      "Epoch 45/200\n",
      "11/11 [==============================] - 0s 47ms/step - loss: 0.0748 - accuracy: 0.9739 - val_loss: 0.0897 - val_accuracy: 0.9686\n",
      "Epoch 46/200\n",
      "11/11 [==============================] - 0s 42ms/step - loss: 0.0708 - accuracy: 0.9757 - val_loss: 0.0820 - val_accuracy: 0.9743\n",
      "Epoch 47/200\n",
      "11/11 [==============================] - 0s 36ms/step - loss: 0.0601 - accuracy: 0.9754 - val_loss: 0.0838 - val_accuracy: 0.9771\n",
      "Epoch 48/200\n",
      "11/11 [==============================] - 0s 38ms/step - loss: 0.0657 - accuracy: 0.9789 - val_loss: 0.0952 - val_accuracy: 0.9671\n",
      "Epoch 49/200\n",
      "11/11 [==============================] - 0s 36ms/step - loss: 0.0613 - accuracy: 0.9754 - val_loss: 0.1031 - val_accuracy: 0.9714\n",
      "Epoch 50/200\n",
      "11/11 [==============================] - 0s 36ms/step - loss: 0.0549 - accuracy: 0.9789 - val_loss: 0.0977 - val_accuracy: 0.9657\n",
      "Epoch 51/200\n",
      "11/11 [==============================] - 0s 36ms/step - loss: 0.0574 - accuracy: 0.9804 - val_loss: 0.0995 - val_accuracy: 0.9671\n",
      "Epoch 52/200\n",
      "11/11 [==============================] - 0s 37ms/step - loss: 0.0568 - accuracy: 0.9782 - val_loss: 0.0895 - val_accuracy: 0.9657\n",
      "Epoch 53/200\n",
      "11/11 [==============================] - 0s 41ms/step - loss: 0.0609 - accuracy: 0.9779 - val_loss: 0.0804 - val_accuracy: 0.9771\n",
      "Epoch 54/200\n",
      "11/11 [==============================] - 0s 37ms/step - loss: 0.0542 - accuracy: 0.9829 - val_loss: 0.0848 - val_accuracy: 0.9743\n",
      "Epoch 55/200\n",
      "11/11 [==============================] - 0s 37ms/step - loss: 0.0520 - accuracy: 0.9807 - val_loss: 0.0973 - val_accuracy: 0.9714\n",
      "Epoch 56/200\n",
      "11/11 [==============================] - 0s 37ms/step - loss: 0.0503 - accuracy: 0.9825 - val_loss: 0.0879 - val_accuracy: 0.9700\n",
      "Epoch 57/200\n",
      "11/11 [==============================] - 0s 37ms/step - loss: 0.0505 - accuracy: 0.9800 - val_loss: 0.0910 - val_accuracy: 0.9714\n",
      "Epoch 58/200\n",
      "11/11 [==============================] - 0s 36ms/step - loss: 0.0575 - accuracy: 0.9804 - val_loss: 0.0981 - val_accuracy: 0.9700\n",
      "Epoch 59/200\n",
      "11/11 [==============================] - 0s 37ms/step - loss: 0.0456 - accuracy: 0.9832 - val_loss: 0.1010 - val_accuracy: 0.9729\n",
      "Epoch 60/200\n",
      "11/11 [==============================] - 0s 36ms/step - loss: 0.0529 - accuracy: 0.9825 - val_loss: 0.0963 - val_accuracy: 0.9729\n",
      "Epoch 61/200\n",
      "11/11 [==============================] - 0s 41ms/step - loss: 0.0521 - accuracy: 0.9814 - val_loss: 0.0718 - val_accuracy: 0.9800\n",
      "Epoch 62/200\n",
      "11/11 [==============================] - 0s 37ms/step - loss: 0.0422 - accuracy: 0.9850 - val_loss: 0.0847 - val_accuracy: 0.9771\n",
      "Epoch 63/200\n",
      "11/11 [==============================] - 0s 37ms/step - loss: 0.0471 - accuracy: 0.9821 - val_loss: 0.0958 - val_accuracy: 0.9757\n",
      "Epoch 64/200\n",
      "11/11 [==============================] - 0s 37ms/step - loss: 0.0437 - accuracy: 0.9843 - val_loss: 0.0916 - val_accuracy: 0.9714\n",
      "Epoch 65/200\n",
      "11/11 [==============================] - 0s 36ms/step - loss: 0.0395 - accuracy: 0.9850 - val_loss: 0.1033 - val_accuracy: 0.9643\n",
      "Epoch 66/200\n",
      "11/11 [==============================] - 0s 37ms/step - loss: 0.0422 - accuracy: 0.9857 - val_loss: 0.1023 - val_accuracy: 0.9729\n",
      "Epoch 67/200\n",
      "11/11 [==============================] - 0s 36ms/step - loss: 0.0498 - accuracy: 0.9804 - val_loss: 0.0725 - val_accuracy: 0.9800\n",
      "Epoch 68/200\n",
      "11/11 [==============================] - 0s 41ms/step - loss: 0.0442 - accuracy: 0.9857 - val_loss: 0.0846 - val_accuracy: 0.9729\n",
      "Epoch 69/200\n",
      "11/11 [==============================] - 0s 39ms/step - loss: 0.0383 - accuracy: 0.9864 - val_loss: 0.0854 - val_accuracy: 0.9743\n",
      "Epoch 70/200\n",
      "11/11 [==============================] - 0s 38ms/step - loss: 0.0410 - accuracy: 0.9857 - val_loss: 0.0780 - val_accuracy: 0.9743\n",
      "Epoch 71/200\n",
      "11/11 [==============================] - 0s 37ms/step - loss: 0.0364 - accuracy: 0.9857 - val_loss: 0.0952 - val_accuracy: 0.9729\n",
      "Epoch 72/200\n",
      "11/11 [==============================] - 0s 36ms/step - loss: 0.0384 - accuracy: 0.9846 - val_loss: 0.0991 - val_accuracy: 0.9714\n",
      "Epoch 73/200\n",
      "11/11 [==============================] - 0s 36ms/step - loss: 0.0388 - accuracy: 0.9850 - val_loss: 0.1042 - val_accuracy: 0.9700\n",
      "Epoch 74/200\n",
      "11/11 [==============================] - 0s 37ms/step - loss: 0.0443 - accuracy: 0.9825 - val_loss: 0.0895 - val_accuracy: 0.9729\n",
      "Epoch 75/200\n",
      "11/11 [==============================] - 0s 40ms/step - loss: 0.0332 - accuracy: 0.9896 - val_loss: 0.1200 - val_accuracy: 0.9671\n",
      "Epoch 76/200\n",
      "11/11 [==============================] - 0s 37ms/step - loss: 0.0378 - accuracy: 0.9879 - val_loss: 0.1063 - val_accuracy: 0.9700\n",
      "Epoch 77/200\n",
      "11/11 [==============================] - 0s 37ms/step - loss: 0.0382 - accuracy: 0.9861 - val_loss: 0.0796 - val_accuracy: 0.9714\n",
      "Epoch 78/200\n",
      "11/11 [==============================] - 0s 36ms/step - loss: 0.0276 - accuracy: 0.9900 - val_loss: 0.1097 - val_accuracy: 0.9714\n",
      "Epoch 79/200\n",
      "11/11 [==============================] - 0s 39ms/step - loss: 0.0349 - accuracy: 0.9875 - val_loss: 0.0862 - val_accuracy: 0.9771\n",
      "Epoch 80/200\n",
      "11/11 [==============================] - 0s 45ms/step - loss: 0.0300 - accuracy: 0.9886 - val_loss: 0.0849 - val_accuracy: 0.9757\n",
      "Epoch 81/200\n",
      "11/11 [==============================] - 0s 38ms/step - loss: 0.0242 - accuracy: 0.9904 - val_loss: 0.0887 - val_accuracy: 0.9757\n",
      "Epoch 82/200\n",
      "11/11 [==============================] - 0s 36ms/step - loss: 0.0287 - accuracy: 0.9889 - val_loss: 0.0900 - val_accuracy: 0.9757\n",
      "Epoch 83/200\n",
      "11/11 [==============================] - 0s 36ms/step - loss: 0.0216 - accuracy: 0.9914 - val_loss: 0.0991 - val_accuracy: 0.9786\n",
      "Epoch 84/200\n",
      "11/11 [==============================] - 0s 36ms/step - loss: 0.0282 - accuracy: 0.9904 - val_loss: 0.0760 - val_accuracy: 0.9743\n",
      "Epoch 85/200\n",
      "11/11 [==============================] - 0s 36ms/step - loss: 0.0341 - accuracy: 0.9875 - val_loss: 0.0855 - val_accuracy: 0.9757\n",
      "Epoch 86/200\n",
      "11/11 [==============================] - 0s 37ms/step - loss: 0.0303 - accuracy: 0.9882 - val_loss: 0.0703 - val_accuracy: 0.9786\n",
      "Epoch 87/200\n",
      "11/11 [==============================] - 0s 45ms/step - loss: 0.0262 - accuracy: 0.9904 - val_loss: 0.0878 - val_accuracy: 0.9771\n",
      "Epoch 88/200\n",
      "11/11 [==============================] - 0s 41ms/step - loss: 0.0196 - accuracy: 0.9936 - val_loss: 0.0752 - val_accuracy: 0.9757\n",
      "Epoch 89/200\n",
      "11/11 [==============================] - 1s 52ms/step - loss: 0.0258 - accuracy: 0.9911 - val_loss: 0.0945 - val_accuracy: 0.9757\n",
      "Epoch 90/200\n",
      "11/11 [==============================] - 1s 46ms/step - loss: 0.0282 - accuracy: 0.9889 - val_loss: 0.0973 - val_accuracy: 0.9714\n",
      "Epoch 91/200\n",
      "11/11 [==============================] - 0s 44ms/step - loss: 0.0301 - accuracy: 0.9882 - val_loss: 0.0765 - val_accuracy: 0.9771\n",
      "Epoch 92/200\n",
      "11/11 [==============================] - 0s 37ms/step - loss: 0.0267 - accuracy: 0.9900 - val_loss: 0.0738 - val_accuracy: 0.9743\n",
      "Epoch 93/200\n",
      "11/11 [==============================] - 0s 43ms/step - loss: 0.0251 - accuracy: 0.9900 - val_loss: 0.1173 - val_accuracy: 0.9686\n",
      "Epoch 94/200\n",
      "11/11 [==============================] - 0s 40ms/step - loss: 0.0270 - accuracy: 0.9896 - val_loss: 0.1040 - val_accuracy: 0.9729\n",
      "Epoch 95/200\n",
      "11/11 [==============================] - 0s 40ms/step - loss: 0.0295 - accuracy: 0.9868 - val_loss: 0.0918 - val_accuracy: 0.9771\n",
      "Epoch 96/200\n",
      "11/11 [==============================] - 0s 40ms/step - loss: 0.0245 - accuracy: 0.9900 - val_loss: 0.0858 - val_accuracy: 0.9771\n",
      "Epoch 97/200\n",
      "11/11 [==============================] - 0s 37ms/step - loss: 0.0214 - accuracy: 0.9929 - val_loss: 0.0834 - val_accuracy: 0.9786\n",
      "Epoch 98/200\n",
      "11/11 [==============================] - 0s 36ms/step - loss: 0.0265 - accuracy: 0.9889 - val_loss: 0.0950 - val_accuracy: 0.9829\n",
      "Epoch 99/200\n",
      "11/11 [==============================] - 0s 36ms/step - loss: 0.0308 - accuracy: 0.9893 - val_loss: 0.1057 - val_accuracy: 0.9757\n",
      "Epoch 100/200\n",
      "11/11 [==============================] - 0s 42ms/step - loss: 0.0263 - accuracy: 0.9907 - val_loss: 0.0889 - val_accuracy: 0.9771\n",
      "Epoch 101/200\n",
      "11/11 [==============================] - 0s 35ms/step - loss: 0.0218 - accuracy: 0.9918 - val_loss: 0.0832 - val_accuracy: 0.9714\n",
      "Epoch 102/200\n",
      "11/11 [==============================] - 0s 36ms/step - loss: 0.0229 - accuracy: 0.9925 - val_loss: 0.0992 - val_accuracy: 0.9743\n",
      "Epoch 103/200\n",
      "11/11 [==============================] - 0s 37ms/step - loss: 0.0274 - accuracy: 0.9893 - val_loss: 0.0821 - val_accuracy: 0.9843\n",
      "Epoch 104/200\n",
      "11/11 [==============================] - 0s 36ms/step - loss: 0.0271 - accuracy: 0.9893 - val_loss: 0.0823 - val_accuracy: 0.9786\n",
      "Epoch 105/200\n",
      "11/11 [==============================] - 0s 36ms/step - loss: 0.0195 - accuracy: 0.9943 - val_loss: 0.1022 - val_accuracy: 0.9743\n",
      "Epoch 106/200\n",
      "11/11 [==============================] - 0s 37ms/step - loss: 0.0248 - accuracy: 0.9893 - val_loss: 0.0894 - val_accuracy: 0.9814\n",
      "Epoch 107/200\n",
      "11/11 [==============================] - 0s 41ms/step - loss: 0.0267 - accuracy: 0.9882 - val_loss: 0.0891 - val_accuracy: 0.9800\n",
      "Epoch 108/200\n",
      "11/11 [==============================] - 0s 43ms/step - loss: 0.0180 - accuracy: 0.9954 - val_loss: 0.0894 - val_accuracy: 0.9786\n",
      "Epoch 109/200\n",
      "11/11 [==============================] - 0s 41ms/step - loss: 0.0229 - accuracy: 0.9896 - val_loss: 0.1061 - val_accuracy: 0.9757\n",
      "Epoch 110/200\n",
      "11/11 [==============================] - 0s 38ms/step - loss: 0.0189 - accuracy: 0.9946 - val_loss: 0.1010 - val_accuracy: 0.9800\n",
      "Epoch 111/200\n",
      "11/11 [==============================] - 0s 35ms/step - loss: 0.0271 - accuracy: 0.9886 - val_loss: 0.1154 - val_accuracy: 0.9771\n",
      "Epoch 112/200\n",
      "11/11 [==============================] - 0s 44ms/step - loss: 0.0188 - accuracy: 0.9925 - val_loss: 0.0866 - val_accuracy: 0.9757\n",
      "Epoch 113/200\n",
      "11/11 [==============================] - 0s 43ms/step - loss: 0.0232 - accuracy: 0.9900 - val_loss: 0.0956 - val_accuracy: 0.9786\n",
      "Epoch 114/200\n",
      "11/11 [==============================] - 0s 40ms/step - loss: 0.0203 - accuracy: 0.9932 - val_loss: 0.0999 - val_accuracy: 0.9786\n",
      "Epoch 115/200\n",
      "11/11 [==============================] - 0s 40ms/step - loss: 0.0220 - accuracy: 0.9918 - val_loss: 0.1037 - val_accuracy: 0.9786\n",
      "Epoch 116/200\n",
      "11/11 [==============================] - 0s 37ms/step - loss: 0.0230 - accuracy: 0.9929 - val_loss: 0.1222 - val_accuracy: 0.9729\n",
      "Epoch 117/200\n",
      "11/11 [==============================] - 0s 38ms/step - loss: 0.0274 - accuracy: 0.9900 - val_loss: 0.1067 - val_accuracy: 0.9729\n",
      "Epoch 118/200\n",
      "11/11 [==============================] - 0s 37ms/step - loss: 0.0276 - accuracy: 0.9896 - val_loss: 0.0971 - val_accuracy: 0.9786\n",
      "Epoch 119/200\n",
      "11/11 [==============================] - 0s 42ms/step - loss: 0.0231 - accuracy: 0.9918 - val_loss: 0.0979 - val_accuracy: 0.9829\n",
      "Epoch 120/200\n",
      "11/11 [==============================] - 0s 39ms/step - loss: 0.0228 - accuracy: 0.9921 - val_loss: 0.0926 - val_accuracy: 0.9800\n",
      "Epoch 121/200\n",
      "11/11 [==============================] - 0s 40ms/step - loss: 0.0178 - accuracy: 0.9932 - val_loss: 0.0991 - val_accuracy: 0.9814\n",
      "Epoch 122/200\n",
      "11/11 [==============================] - 0s 38ms/step - loss: 0.0211 - accuracy: 0.9914 - val_loss: 0.1113 - val_accuracy: 0.9786\n",
      "Epoch 123/200\n",
      "11/11 [==============================] - 0s 45ms/step - loss: 0.0213 - accuracy: 0.9932 - val_loss: 0.0788 - val_accuracy: 0.9829\n",
      "Epoch 124/200\n",
      "11/11 [==============================] - 0s 38ms/step - loss: 0.0180 - accuracy: 0.9954 - val_loss: 0.0941 - val_accuracy: 0.9800\n",
      "Epoch 125/200\n",
      "11/11 [==============================] - 0s 40ms/step - loss: 0.0185 - accuracy: 0.9929 - val_loss: 0.1085 - val_accuracy: 0.9743\n",
      "Epoch 126/200\n",
      "11/11 [==============================] - 0s 36ms/step - loss: 0.0186 - accuracy: 0.9943 - val_loss: 0.0987 - val_accuracy: 0.9757\n",
      "Epoch 127/200\n",
      "11/11 [==============================] - 0s 33ms/step - loss: 0.0178 - accuracy: 0.9921 - val_loss: 0.0995 - val_accuracy: 0.9829\n",
      "Epoch 128/200\n",
      "11/11 [==============================] - 0s 33ms/step - loss: 0.0141 - accuracy: 0.9950 - val_loss: 0.1093 - val_accuracy: 0.9757\n",
      "Epoch 129/200\n",
      "11/11 [==============================] - 0s 34ms/step - loss: 0.0174 - accuracy: 0.9943 - val_loss: 0.1052 - val_accuracy: 0.9757\n",
      "Epoch 130/200\n",
      "11/11 [==============================] - 0s 36ms/step - loss: 0.0139 - accuracy: 0.9943 - val_loss: 0.0891 - val_accuracy: 0.9757\n",
      "Epoch 131/200\n",
      "11/11 [==============================] - 0s 37ms/step - loss: 0.0167 - accuracy: 0.9954 - val_loss: 0.1206 - val_accuracy: 0.9771\n",
      "Epoch 132/200\n",
      "11/11 [==============================] - 0s 39ms/step - loss: 0.0169 - accuracy: 0.9936 - val_loss: 0.0950 - val_accuracy: 0.9786\n",
      "Epoch 133/200\n",
      "11/11 [==============================] - 0s 37ms/step - loss: 0.0182 - accuracy: 0.9936 - val_loss: 0.1070 - val_accuracy: 0.9757\n",
      "Epoch 134/200\n",
      "11/11 [==============================] - 0s 36ms/step - loss: 0.0172 - accuracy: 0.9939 - val_loss: 0.1117 - val_accuracy: 0.9700\n",
      "Epoch 135/200\n",
      "11/11 [==============================] - 0s 38ms/step - loss: 0.0171 - accuracy: 0.9925 - val_loss: 0.0986 - val_accuracy: 0.9771\n",
      "Epoch 136/200\n",
      "11/11 [==============================] - 0s 39ms/step - loss: 0.0253 - accuracy: 0.9911 - val_loss: 0.1191 - val_accuracy: 0.9729\n",
      "Epoch 137/200\n",
      "11/11 [==============================] - 0s 37ms/step - loss: 0.0174 - accuracy: 0.9957 - val_loss: 0.0966 - val_accuracy: 0.9771\n",
      "Epoch 138/200\n",
      "11/11 [==============================] - 0s 42ms/step - loss: 0.0129 - accuracy: 0.9968 - val_loss: 0.0997 - val_accuracy: 0.9743\n",
      "Epoch 139/200\n",
      "11/11 [==============================] - 0s 36ms/step - loss: 0.0201 - accuracy: 0.9914 - val_loss: 0.1096 - val_accuracy: 0.9757\n",
      "Epoch 140/200\n",
      "11/11 [==============================] - 0s 37ms/step - loss: 0.0173 - accuracy: 0.9943 - val_loss: 0.1149 - val_accuracy: 0.9729\n",
      "Epoch 141/200\n",
      "11/11 [==============================] - 0s 39ms/step - loss: 0.0129 - accuracy: 0.9943 - val_loss: 0.1036 - val_accuracy: 0.9743\n",
      "Epoch 142/200\n",
      "11/11 [==============================] - 0s 36ms/step - loss: 0.0172 - accuracy: 0.9943 - val_loss: 0.1116 - val_accuracy: 0.9757\n",
      "Epoch 143/200\n",
      "11/11 [==============================] - 0s 36ms/step - loss: 0.0143 - accuracy: 0.9954 - val_loss: 0.1051 - val_accuracy: 0.9757\n",
      "Epoch 144/200\n",
      "11/11 [==============================] - 0s 41ms/step - loss: 0.0140 - accuracy: 0.9943 - val_loss: 0.1136 - val_accuracy: 0.9786\n",
      "Epoch 145/200\n",
      "11/11 [==============================] - 0s 35ms/step - loss: 0.0133 - accuracy: 0.9954 - val_loss: 0.1315 - val_accuracy: 0.9757\n",
      "Epoch 146/200\n",
      "11/11 [==============================] - 0s 36ms/step - loss: 0.0143 - accuracy: 0.9943 - val_loss: 0.1280 - val_accuracy: 0.9757\n",
      "Epoch 147/200\n",
      "11/11 [==============================] - 0s 36ms/step - loss: 0.0177 - accuracy: 0.9943 - val_loss: 0.1078 - val_accuracy: 0.9757\n",
      "Epoch 148/200\n",
      "11/11 [==============================] - 0s 36ms/step - loss: 0.0131 - accuracy: 0.9957 - val_loss: 0.1251 - val_accuracy: 0.9729\n",
      "Epoch 149/200\n",
      "11/11 [==============================] - 0s 35ms/step - loss: 0.0144 - accuracy: 0.9943 - val_loss: 0.0956 - val_accuracy: 0.9786\n",
      "Epoch 150/200\n",
      "11/11 [==============================] - 0s 35ms/step - loss: 0.0124 - accuracy: 0.9950 - val_loss: 0.1288 - val_accuracy: 0.9743\n",
      "Epoch 151/200\n",
      "11/11 [==============================] - 0s 41ms/step - loss: 0.0157 - accuracy: 0.9946 - val_loss: 0.1086 - val_accuracy: 0.9757\n",
      "Epoch 152/200\n",
      "11/11 [==============================] - 0s 38ms/step - loss: 0.0143 - accuracy: 0.9946 - val_loss: 0.1224 - val_accuracy: 0.9771\n",
      "Epoch 153/200\n",
      "11/11 [==============================] - 0s 35ms/step - loss: 0.0138 - accuracy: 0.9968 - val_loss: 0.1006 - val_accuracy: 0.9743\n",
      "Epoch 154/200\n",
      "11/11 [==============================] - 0s 36ms/step - loss: 0.0131 - accuracy: 0.9950 - val_loss: 0.1140 - val_accuracy: 0.9743\n",
      "Epoch 155/200\n",
      "11/11 [==============================] - 0s 36ms/step - loss: 0.0138 - accuracy: 0.9950 - val_loss: 0.0910 - val_accuracy: 0.9786\n",
      "Epoch 156/200\n",
      "11/11 [==============================] - 0s 36ms/step - loss: 0.0119 - accuracy: 0.9957 - val_loss: 0.0925 - val_accuracy: 0.9800\n",
      "Epoch 157/200\n",
      "11/11 [==============================] - 0s 40ms/step - loss: 0.0090 - accuracy: 0.9971 - val_loss: 0.1089 - val_accuracy: 0.9771\n",
      "Epoch 158/200\n",
      "11/11 [==============================] - 0s 36ms/step - loss: 0.0111 - accuracy: 0.9964 - val_loss: 0.1207 - val_accuracy: 0.9743\n",
      "Epoch 159/200\n",
      "11/11 [==============================] - 0s 37ms/step - loss: 0.0157 - accuracy: 0.9936 - val_loss: 0.1057 - val_accuracy: 0.9771\n",
      "Epoch 160/200\n",
      "11/11 [==============================] - 0s 36ms/step - loss: 0.0180 - accuracy: 0.9918 - val_loss: 0.1527 - val_accuracy: 0.9729\n",
      "Epoch 161/200\n",
      "11/11 [==============================] - 0s 35ms/step - loss: 0.0152 - accuracy: 0.9939 - val_loss: 0.1360 - val_accuracy: 0.9729\n",
      "Epoch 162/200\n",
      "11/11 [==============================] - 0s 35ms/step - loss: 0.0159 - accuracy: 0.9932 - val_loss: 0.1121 - val_accuracy: 0.9771\n",
      "Epoch 163/200\n",
      "11/11 [==============================] - 0s 42ms/step - loss: 0.0149 - accuracy: 0.9943 - val_loss: 0.1098 - val_accuracy: 0.9771\n",
      "Epoch 164/200\n",
      "11/11 [==============================] - 0s 35ms/step - loss: 0.0152 - accuracy: 0.9946 - val_loss: 0.1006 - val_accuracy: 0.9786\n",
      "Epoch 165/200\n",
      "11/11 [==============================] - 0s 35ms/step - loss: 0.0147 - accuracy: 0.9939 - val_loss: 0.0929 - val_accuracy: 0.9757\n",
      "Epoch 166/200\n",
      "11/11 [==============================] - 0s 35ms/step - loss: 0.0216 - accuracy: 0.9918 - val_loss: 0.0913 - val_accuracy: 0.9814\n",
      "Epoch 167/200\n",
      "11/11 [==============================] - 0s 34ms/step - loss: 0.0162 - accuracy: 0.9943 - val_loss: 0.1088 - val_accuracy: 0.9771\n",
      "Epoch 168/200\n",
      "11/11 [==============================] - 0s 34ms/step - loss: 0.0120 - accuracy: 0.9957 - val_loss: 0.0876 - val_accuracy: 0.9829\n",
      "Epoch 169/200\n",
      "11/11 [==============================] - 0s 37ms/step - loss: 0.0158 - accuracy: 0.9936 - val_loss: 0.1102 - val_accuracy: 0.9786\n",
      "Epoch 170/200\n",
      "11/11 [==============================] - 0s 34ms/step - loss: 0.0093 - accuracy: 0.9971 - val_loss: 0.1259 - val_accuracy: 0.9729\n",
      "Epoch 171/200\n",
      "11/11 [==============================] - 0s 36ms/step - loss: 0.0156 - accuracy: 0.9946 - val_loss: 0.1057 - val_accuracy: 0.9786\n",
      "Epoch 172/200\n",
      "11/11 [==============================] - 0s 37ms/step - loss: 0.0178 - accuracy: 0.9936 - val_loss: 0.1020 - val_accuracy: 0.9786\n",
      "Epoch 173/200\n",
      "11/11 [==============================] - 0s 35ms/step - loss: 0.0177 - accuracy: 0.9943 - val_loss: 0.1115 - val_accuracy: 0.9800\n",
      "Epoch 174/200\n",
      "11/11 [==============================] - 0s 35ms/step - loss: 0.0178 - accuracy: 0.9929 - val_loss: 0.1378 - val_accuracy: 0.9800\n",
      "Epoch 175/200\n",
      "11/11 [==============================] - 0s 40ms/step - loss: 0.0102 - accuracy: 0.9975 - val_loss: 0.0975 - val_accuracy: 0.9843\n",
      "Epoch 176/200\n",
      "11/11 [==============================] - 0s 34ms/step - loss: 0.0126 - accuracy: 0.9943 - val_loss: 0.0998 - val_accuracy: 0.9843\n",
      "Epoch 177/200\n",
      "11/11 [==============================] - 0s 35ms/step - loss: 0.0133 - accuracy: 0.9946 - val_loss: 0.1070 - val_accuracy: 0.9814\n",
      "Epoch 178/200\n",
      "11/11 [==============================] - 0s 34ms/step - loss: 0.0120 - accuracy: 0.9954 - val_loss: 0.1264 - val_accuracy: 0.9771\n",
      "Epoch 179/200\n",
      "11/11 [==============================] - 0s 36ms/step - loss: 0.0149 - accuracy: 0.9936 - val_loss: 0.1210 - val_accuracy: 0.9800\n",
      "Epoch 180/200\n",
      "11/11 [==============================] - 0s 38ms/step - loss: 0.0170 - accuracy: 0.9932 - val_loss: 0.1213 - val_accuracy: 0.9771\n",
      "Epoch 181/200\n",
      "11/11 [==============================] - 0s 35ms/step - loss: 0.0162 - accuracy: 0.9946 - val_loss: 0.1296 - val_accuracy: 0.9757\n",
      "Epoch 182/200\n",
      "11/11 [==============================] - 0s 35ms/step - loss: 0.0231 - accuracy: 0.9904 - val_loss: 0.1180 - val_accuracy: 0.9786\n",
      "Epoch 183/200\n",
      "11/11 [==============================] - 0s 35ms/step - loss: 0.0178 - accuracy: 0.9932 - val_loss: 0.1097 - val_accuracy: 0.9829\n",
      "Epoch 184/200\n",
      "11/11 [==============================] - 0s 34ms/step - loss: 0.0143 - accuracy: 0.9932 - val_loss: 0.1227 - val_accuracy: 0.9786\n",
      "Epoch 185/200\n",
      "11/11 [==============================] - 0s 37ms/step - loss: 0.0105 - accuracy: 0.9961 - val_loss: 0.1171 - val_accuracy: 0.9829\n",
      "Epoch 186/200\n",
      "11/11 [==============================] - 0s 40ms/step - loss: 0.0118 - accuracy: 0.9954 - val_loss: 0.1290 - val_accuracy: 0.9814\n",
      "Epoch 187/200\n",
      "11/11 [==============================] - 0s 38ms/step - loss: 0.0098 - accuracy: 0.9968 - val_loss: 0.1206 - val_accuracy: 0.9786\n",
      "Epoch 188/200\n",
      "11/11 [==============================] - 0s 38ms/step - loss: 0.0079 - accuracy: 0.9964 - val_loss: 0.1180 - val_accuracy: 0.9771\n",
      "Epoch 189/200\n",
      "11/11 [==============================] - 0s 39ms/step - loss: 0.0106 - accuracy: 0.9954 - val_loss: 0.1231 - val_accuracy: 0.9771\n",
      "Epoch 190/200\n",
      "11/11 [==============================] - 0s 36ms/step - loss: 0.0070 - accuracy: 0.9975 - val_loss: 0.1236 - val_accuracy: 0.9800\n",
      "Epoch 191/200\n",
      "11/11 [==============================] - 0s 36ms/step - loss: 0.0099 - accuracy: 0.9968 - val_loss: 0.1212 - val_accuracy: 0.9786\n",
      "Epoch 192/200\n",
      "11/11 [==============================] - 0s 43ms/step - loss: 0.0049 - accuracy: 0.9989 - val_loss: 0.1262 - val_accuracy: 0.9814\n",
      "Epoch 193/200\n",
      "11/11 [==============================] - 0s 37ms/step - loss: 0.0072 - accuracy: 0.9968 - val_loss: 0.1096 - val_accuracy: 0.9771\n",
      "Epoch 194/200\n",
      "11/11 [==============================] - 0s 37ms/step - loss: 0.0138 - accuracy: 0.9946 - val_loss: 0.1059 - val_accuracy: 0.9829\n",
      "Epoch 195/200\n",
      "11/11 [==============================] - 0s 45ms/step - loss: 0.0094 - accuracy: 0.9961 - val_loss: 0.1183 - val_accuracy: 0.9771\n",
      "Epoch 196/200\n",
      "11/11 [==============================] - 0s 38ms/step - loss: 0.0090 - accuracy: 0.9957 - val_loss: 0.1185 - val_accuracy: 0.9814\n",
      "Epoch 197/200\n",
      "11/11 [==============================] - 1s 49ms/step - loss: 0.0100 - accuracy: 0.9954 - val_loss: 0.1311 - val_accuracy: 0.9771\n",
      "Epoch 198/200\n",
      "11/11 [==============================] - 0s 41ms/step - loss: 0.0102 - accuracy: 0.9975 - val_loss: 0.1496 - val_accuracy: 0.9743\n",
      "Epoch 199/200\n",
      "11/11 [==============================] - 0s 41ms/step - loss: 0.0078 - accuracy: 0.9975 - val_loss: 0.1387 - val_accuracy: 0.9771\n",
      "Epoch 200/200\n",
      "11/11 [==============================] - 0s 42ms/step - loss: 0.0064 - accuracy: 0.9975 - val_loss: 0.1304 - val_accuracy: 0.9771\n"
     ]
    }
   ],
   "source": [
    "# 5. Define model architecture\n",
    "model = Sequential()\n",
    "model.add(layers.Conv2D(32, (3, 3), activation='relu',\n",
    "                        input_shape=(28, 28, 1)))\n",
    "model.add(layers.MaxPooling2D((2, 2)))\n",
    "model.add(layers.Conv2D(64, (3, 3), activation='relu'))\n",
    "model.add(layers.MaxPooling2D((2, 2)))\n",
    "model.add(layers.Conv2D(64, (3, 3), activation='relu'))\n",
    "model.add(layers.Flatten())\n",
    "model.add(layers.Dense(64, activation='relu'))\n",
    "model.add(Dropout(0.5))\n",
    "model.add(layers.Dense(10, activation='softmax'))\n",
    "\n",
    "\n",
    "# 6. Compile model\n",
    "model.compile(loss='categorical_crossentropy',\n",
    "              optimizer='adam',\n",
    "              metrics=['accuracy'])\n",
    "\n",
    "\n",
    "# 7. Fit model on training data\n",
    "history = model.fit(X_train_28, y_train,\n",
    "          epochs=200, batch_size=256, validation_split=0.2)\n"
   ]
  },
  {
   "cell_type": "code",
   "execution_count": 12,
   "metadata": {
    "colab": {
     "base_uri": "https://localhost:8080/",
     "height": 887
    },
    "id": "JPXMaIfcT9zT",
    "outputId": "d6b3ba8d-f547-4782-f8b4-51e842eb2701"
   },
   "outputs": [
    {
     "data": {
      "image/png": "[encoded data removed]",
      "text/plain": [
       "<Figure size 640x480 with 1 Axes>"
      ]
     },
     "metadata": {},
     "output_type": "display_data"
    },
    {
     "data": {
      "image/png": "[encoded data removed]",
      "text/plain": [
       "<Figure size 640x480 with 1 Axes>"
      ]
     },
     "metadata": {},
     "output_type": "display_data"
    }
   ],
   "source": [
    "import matplotlib.pyplot as plt\n",
    "%matplotlib inline\n",
    "acc = history.history['accuracy']\n",
    "val_acc = history.history['val_accuracy']\n",
    "loss = history.history['loss']\n",
    "val_loss = history.history['val_loss']\n",
    "\n",
    "epochs = range(len(acc))\n",
    "\n",
    "plt.plot(epochs, acc, 'bo', label='Training acc')\n",
    "plt.plot(epochs, val_acc, 'b', label='Validation acc')\n",
    "plt.title('Training and validation accuracy')\n",
    "plt.legend()\n",
    "\n",
    "plt.figure()\n",
    "\n",
    "plt.plot(epochs, loss, 'bo', label='Training loss')\n",
    "plt.plot(epochs, val_loss, 'b', label='Validation loss')\n",
    "plt.title('Training and validation loss')\n",
    "plt.legend()\n",
    "\n",
    "plt.show()"
   ]
  },
  {
   "cell_type": "code",
   "execution_count": 13,
   "metadata": {
    "colab": {
     "base_uri": "https://localhost:8080/"
    },
    "id": "mwUD7g8XX0FK",
    "outputId": "b270e147-e845-4c2a-de38-f7e6bdd47b43"
   },
   "outputs": [
    {
     "name": "stdout",
     "output_type": "stream",
     "text": [
      "13/13 [==============================] - 0s 3ms/step - loss: 0.0710 - accuracy: 0.9825\n"
     ]
    },
    {
     "data": {
      "text/plain": [
       "[0.07099016010761261, 0.9825000166893005]"
      ]
     },
     "execution_count": 13,
     "metadata": {},
     "output_type": "execute_result"
    }
   ],
   "source": [
    "model.evaluate(X_test_28, y_test)"
   ]
  },
  {
   "cell_type": "markdown",
   "metadata": {
    "id": "G4eebvi8YCQr"
   },
   "source": [
    "Can you feed data with different dimention (such as 32x32)?"
   ]
  },
  {
   "cell_type": "code",
   "execution_count": 14,
   "metadata": {
    "colab": {
     "base_uri": "https://localhost:8080/",
     "height": 1000
    },
    "id": "575DhPWmX_uZ",
    "outputId": "ba1ff1fa-69c6-4036-e410-53039ba36371"
   },
   "outputs": [
    {
     "ename": "InvalidArgumentError",
     "evalue": "Graph execution error:\n\nDetected at node sequential/dense/Relu defined at (most recent call last):\n  File \"c:\\Users\\Lenovo\\AppData\\Local\\Programs\\Python\\Python310\\lib\\runpy.py\", line 196, in _run_module_as_main\n\n  File \"c:\\Users\\Lenovo\\AppData\\Local\\Programs\\Python\\Python310\\lib\\runpy.py\", line 86, in _run_code\n\n  File \"C:\\Users\\Lenovo\\AppData\\Roaming\\Python\\Python310\\site-packages\\ipykernel_launcher.py\", line 17, in <module>\n\n  File \"C:\\Users\\Lenovo\\AppData\\Roaming\\Python\\Python310\\site-packages\\traitlets\\config\\application.py\", line 1041, in launch_instance\n\n  File \"C:\\Users\\Lenovo\\AppData\\Roaming\\Python\\Python310\\site-packages\\ipykernel\\kernelapp.py\", line 711, in start\n\n  File \"C:\\Users\\Lenovo\\AppData\\Roaming\\Python\\Python310\\site-packages\\tornado\\platform\\asyncio.py\", line 215, in start\n\n  File \"c:\\Users\\Lenovo\\AppData\\Local\\Programs\\Python\\Python310\\lib\\asyncio\\base_events.py\", line 600, in run_forever\n\n  File \"c:\\Users\\Lenovo\\AppData\\Local\\Programs\\Python\\Python310\\lib\\asyncio\\base_events.py\", line 1896, in _run_once\n\n  File \"c:\\Users\\Lenovo\\AppData\\Local\\Programs\\Python\\Python310\\lib\\asyncio\\events.py\", line 80, in _run\n\n  File \"C:\\Users\\Lenovo\\AppData\\Roaming\\Python\\Python310\\site-packages\\ipykernel\\kernelbase.py\", line 510, in dispatch_queue\n\n  File \"C:\\Users\\Lenovo\\AppData\\Roaming\\Python\\Python310\\site-packages\\ipykernel\\kernelbase.py\", line 499, in process_one\n\n  File \"C:\\Users\\Lenovo\\AppData\\Roaming\\Python\\Python310\\site-packages\\ipykernel\\kernelbase.py\", line 406, in dispatch_shell\n\n  File \"C:\\Users\\Lenovo\\AppData\\Roaming\\Python\\Python310\\site-packages\\ipykernel\\kernelbase.py\", line 729, in execute_request\n\n  File \"C:\\Users\\Lenovo\\AppData\\Roaming\\Python\\Python310\\site-packages\\ipykernel\\ipkernel.py\", line 411, in do_execute\n\n  File \"C:\\Users\\Lenovo\\AppData\\Roaming\\Python\\Python310\\site-packages\\ipykernel\\zmqshell.py\", line 530, in run_cell\n\n  File \"C:\\Users\\Lenovo\\AppData\\Roaming\\Python\\Python310\\site-packages\\IPython\\core\\interactiveshell.py\", line 2940, in run_cell\n\n  File \"C:\\Users\\Lenovo\\AppData\\Roaming\\Python\\Python310\\site-packages\\IPython\\core\\interactiveshell.py\", line 2995, in _run_cell\n\n  File \"C:\\Users\\Lenovo\\AppData\\Roaming\\Python\\Python310\\site-packages\\IPython\\core\\async_helpers.py\", line 129, in _pseudo_sync_runner\n\n  File \"C:\\Users\\Lenovo\\AppData\\Roaming\\Python\\Python310\\site-packages\\IPython\\core\\interactiveshell.py\", line 3194, in run_cell_async\n\n  File \"C:\\Users\\Lenovo\\AppData\\Roaming\\Python\\Python310\\site-packages\\IPython\\core\\interactiveshell.py\", line 3373, in run_ast_nodes\n\n  File \"C:\\Users\\Lenovo\\AppData\\Roaming\\Python\\Python310\\site-packages\\IPython\\core\\interactiveshell.py\", line 3433, in run_code\n\n  File \"C:\\Users\\Lenovo\\AppData\\Local\\Temp\\ipykernel_8408\\3164611343.py\", line 1, in <module>\n\n  File \"c:\\Users\\Lenovo\\AppData\\Local\\Programs\\Python\\Python310\\lib\\site-packages\\keras\\src\\utils\\traceback_utils.py\", line 65, in error_handler\n\n  File \"c:\\Users\\Lenovo\\AppData\\Local\\Programs\\Python\\Python310\\lib\\site-packages\\keras\\src\\engine\\training.py\", line 2296, in evaluate\n\n  File \"c:\\Users\\Lenovo\\AppData\\Local\\Programs\\Python\\Python310\\lib\\site-packages\\keras\\src\\engine\\training.py\", line 4108, in run_step\n\n  File \"c:\\Users\\Lenovo\\AppData\\Local\\Programs\\Python\\Python310\\lib\\site-packages\\keras\\src\\engine\\training.py\", line 2066, in test_function\n\n  File \"c:\\Users\\Lenovo\\AppData\\Local\\Programs\\Python\\Python310\\lib\\site-packages\\keras\\src\\engine\\training.py\", line 2049, in step_function\n\n  File \"c:\\Users\\Lenovo\\AppData\\Local\\Programs\\Python\\Python310\\lib\\site-packages\\keras\\src\\engine\\training.py\", line 2037, in run_step\n\n  File \"c:\\Users\\Lenovo\\AppData\\Local\\Programs\\Python\\Python310\\lib\\site-packages\\keras\\src\\engine\\training.py\", line 1917, in test_step\n\n  File \"c:\\Users\\Lenovo\\AppData\\Local\\Programs\\Python\\Python310\\lib\\site-packages\\keras\\src\\utils\\traceback_utils.py\", line 65, in error_handler\n\n  File \"c:\\Users\\Lenovo\\AppData\\Local\\Programs\\Python\\Python310\\lib\\site-packages\\keras\\src\\engine\\training.py\", line 590, in __call__\n\n  File \"c:\\Users\\Lenovo\\AppData\\Local\\Programs\\Python\\Python310\\lib\\site-packages\\keras\\src\\utils\\traceback_utils.py\", line 65, in error_handler\n\n  File \"c:\\Users\\Lenovo\\AppData\\Local\\Programs\\Python\\Python310\\lib\\site-packages\\keras\\src\\engine\\base_layer.py\", line 1149, in __call__\n\n  File \"c:\\Users\\Lenovo\\AppData\\Local\\Programs\\Python\\Python310\\lib\\site-packages\\keras\\src\\utils\\traceback_utils.py\", line 96, in error_handler\n\n  File \"c:\\Users\\Lenovo\\AppData\\Local\\Programs\\Python\\Python310\\lib\\site-packages\\keras\\src\\engine\\sequential.py\", line 398, in call\n\n  File \"c:\\Users\\Lenovo\\AppData\\Local\\Programs\\Python\\Python310\\lib\\site-packages\\keras\\src\\engine\\functional.py\", line 515, in call\n\n  File \"c:\\Users\\Lenovo\\AppData\\Local\\Programs\\Python\\Python310\\lib\\site-packages\\keras\\src\\engine\\functional.py\", line 672, in _run_internal_graph\n\n  File \"c:\\Users\\Lenovo\\AppData\\Local\\Programs\\Python\\Python310\\lib\\site-packages\\keras\\src\\utils\\traceback_utils.py\", line 65, in error_handler\n\n  File \"c:\\Users\\Lenovo\\AppData\\Local\\Programs\\Python\\Python310\\lib\\site-packages\\keras\\src\\engine\\base_layer.py\", line 1149, in __call__\n\n  File \"c:\\Users\\Lenovo\\AppData\\Local\\Programs\\Python\\Python310\\lib\\site-packages\\keras\\src\\utils\\traceback_utils.py\", line 96, in error_handler\n\n  File \"c:\\Users\\Lenovo\\AppData\\Local\\Programs\\Python\\Python310\\lib\\site-packages\\keras\\src\\layers\\core\\dense.py\", line 255, in call\n\n  File \"c:\\Users\\Lenovo\\AppData\\Local\\Programs\\Python\\Python310\\lib\\site-packages\\keras\\src\\activations.py\", line 306, in relu\n\n  File \"c:\\Users\\Lenovo\\AppData\\Local\\Programs\\Python\\Python310\\lib\\site-packages\\keras\\src\\backend.py\", line 5395, in relu\n\nMatrix size-incompatible: In[0]: [32,1024], In[1]: [576,64]\n\t [[{{node sequential/dense/Relu}}]] [Op:__inference_test_function_19268]",
     "output_type": "error",
     "traceback": [
      "\u001b[1;31m---------------------------------------------------------------------------\u001b[0m",
      "\u001b[1;31mInvalidArgumentError\u001b[0m                      Traceback (most recent call last)",
      "Cell \u001b[1;32mIn[14], line 1\u001b[0m\n\u001b[1;32m----> 1\u001b[0m \u001b[43mmodel\u001b[49m\u001b[38;5;241;43m.\u001b[39;49m\u001b[43mevaluate\u001b[49m\u001b[43m(\u001b[49m\u001b[43mX_test_32\u001b[49m\u001b[43m,\u001b[49m\u001b[43m \u001b[49m\u001b[43my_test\u001b[49m\u001b[43m)\u001b[49m\n",
      "File \u001b[1;32mc:\\Users\\Lenovo\\AppData\\Local\\Programs\\Python\\Python310\\lib\\site-packages\\keras\\src\\utils\\traceback_utils.py:70\u001b[0m, in \u001b[0;36mfilter_traceback.<locals>.error_handler\u001b[1;34m(*args, **kwargs)\u001b[0m\n\u001b[0;32m     67\u001b[0m     filtered_tb \u001b[38;5;241m=\u001b[39m _process_traceback_frames(e\u001b[38;5;241m.\u001b[39m__traceback__)\n\u001b[0;32m     68\u001b[0m     \u001b[38;5;66;03m# To get the full stack trace, call:\u001b[39;00m\n\u001b[0;32m     69\u001b[0m     \u001b[38;5;66;03m# `tf.debugging.disable_traceback_filtering()`\u001b[39;00m\n\u001b[1;32m---> 70\u001b[0m     \u001b[38;5;28;01mraise\u001b[39;00m e\u001b[38;5;241m.\u001b[39mwith_traceback(filtered_tb) \u001b[38;5;28;01mfrom\u001b[39;00m \u001b[38;5;28mNone\u001b[39m\n\u001b[0;32m     71\u001b[0m \u001b[38;5;28;01mfinally\u001b[39;00m:\n\u001b[0;32m     72\u001b[0m     \u001b[38;5;28;01mdel\u001b[39;00m filtered_tb\n",
      "File \u001b[1;32mc:\\Users\\Lenovo\\AppData\\Local\\Programs\\Python\\Python310\\lib\\site-packages\\tensorflow\\python\\eager\\execute.py:53\u001b[0m, in \u001b[0;36mquick_execute\u001b[1;34m(op_name, num_outputs, inputs, attrs, ctx, name)\u001b[0m\n\u001b[0;32m     51\u001b[0m \u001b[38;5;28;01mtry\u001b[39;00m:\n\u001b[0;32m     52\u001b[0m   ctx\u001b[38;5;241m.\u001b[39mensure_initialized()\n\u001b[1;32m---> 53\u001b[0m   tensors \u001b[38;5;241m=\u001b[39m pywrap_tfe\u001b[38;5;241m.\u001b[39mTFE_Py_Execute(ctx\u001b[38;5;241m.\u001b[39m_handle, device_name, op_name,\n\u001b[0;32m     54\u001b[0m                                       inputs, attrs, num_outputs)\n\u001b[0;32m     55\u001b[0m \u001b[38;5;28;01mexcept\u001b[39;00m core\u001b[38;5;241m.\u001b[39m_NotOkStatusException \u001b[38;5;28;01mas\u001b[39;00m e:\n\u001b[0;32m     56\u001b[0m   \u001b[38;5;28;01mif\u001b[39;00m name \u001b[38;5;129;01mis\u001b[39;00m \u001b[38;5;129;01mnot\u001b[39;00m \u001b[38;5;28;01mNone\u001b[39;00m:\n",
      "\u001b[1;31mInvalidArgumentError\u001b[0m: Graph execution error:\n\nDetected at node sequential/dense/Relu defined at (most recent call last):\n  File \"c:\\Users\\Lenovo\\AppData\\Local\\Programs\\Python\\Python310\\lib\\runpy.py\", line 196, in _run_module_as_main\n\n  File \"c:\\Users\\Lenovo\\AppData\\Local\\Programs\\Python\\Python310\\lib\\runpy.py\", line 86, in _run_code\n\n  File \"C:\\Users\\Lenovo\\AppData\\Roaming\\Python\\Python310\\site-packages\\ipykernel_launcher.py\", line 17, in <module>\n\n  File \"C:\\Users\\Lenovo\\AppData\\Roaming\\Python\\Python310\\site-packages\\traitlets\\config\\application.py\", line 1041, in launch_instance\n\n  File \"C:\\Users\\Lenovo\\AppData\\Roaming\\Python\\Python310\\site-packages\\ipykernel\\kernelapp.py\", line 711, in start\n\n  File \"C:\\Users\\Lenovo\\AppData\\Roaming\\Python\\Python310\\site-packages\\tornado\\platform\\asyncio.py\", line 215, in start\n\n  File \"c:\\Users\\Lenovo\\AppData\\Local\\Programs\\Python\\Python310\\lib\\asyncio\\base_events.py\", line 600, in run_forever\n\n  File \"c:\\Users\\Lenovo\\AppData\\Local\\Programs\\Python\\Python310\\lib\\asyncio\\base_events.py\", line 1896, in _run_once\n\n  File \"c:\\Users\\Lenovo\\AppData\\Local\\Programs\\Python\\Python310\\lib\\asyncio\\events.py\", line 80, in _run\n\n  File \"C:\\Users\\Lenovo\\AppData\\Roaming\\Python\\Python310\\site-packages\\ipykernel\\kernelbase.py\", line 510, in dispatch_queue\n\n  File \"C:\\Users\\Lenovo\\AppData\\Roaming\\Python\\Python310\\site-packages\\ipykernel\\kernelbase.py\", line 499, in process_one\n\n  File \"C:\\Users\\Lenovo\\AppData\\Roaming\\Python\\Python310\\site-packages\\ipykernel\\kernelbase.py\", line 406, in dispatch_shell\n\n  File \"C:\\Users\\Lenovo\\AppData\\Roaming\\Python\\Python310\\site-packages\\ipykernel\\kernelbase.py\", line 729, in execute_request\n\n  File \"C:\\Users\\Lenovo\\AppData\\Roaming\\Python\\Python310\\site-packages\\ipykernel\\ipkernel.py\", line 411, in do_execute\n\n  File \"C:\\Users\\Lenovo\\AppData\\Roaming\\Python\\Python310\\site-packages\\ipykernel\\zmqshell.py\", line 530, in run_cell\n\n  File \"C:\\Users\\Lenovo\\AppData\\Roaming\\Python\\Python310\\site-packages\\IPython\\core\\interactiveshell.py\", line 2940, in run_cell\n\n  File \"C:\\Users\\Lenovo\\AppData\\Roaming\\Python\\Python310\\site-packages\\IPython\\core\\interactiveshell.py\", line 2995, in _run_cell\n\n  File \"C:\\Users\\Lenovo\\AppData\\Roaming\\Python\\Python310\\site-packages\\IPython\\core\\async_helpers.py\", line 129, in _pseudo_sync_runner\n\n  File \"C:\\Users\\Lenovo\\AppData\\Roaming\\Python\\Python310\\site-packages\\IPython\\core\\interactiveshell.py\", line 3194, in run_cell_async\n\n  File \"C:\\Users\\Lenovo\\AppData\\Roaming\\Python\\Python310\\site-packages\\IPython\\core\\interactiveshell.py\", line 3373, in run_ast_nodes\n\n  File \"C:\\Users\\Lenovo\\AppData\\Roaming\\Python\\Python310\\site-packages\\IPython\\core\\interactiveshell.py\", line 3433, in run_code\n\n  File \"C:\\Users\\Lenovo\\AppData\\Local\\Temp\\ipykernel_8408\\3164611343.py\", line 1, in <module>\n\n  File \"c:\\Users\\Lenovo\\AppData\\Local\\Programs\\Python\\Python310\\lib\\site-packages\\keras\\src\\utils\\traceback_utils.py\", line 65, in error_handler\n\n  File \"c:\\Users\\Lenovo\\AppData\\Local\\Programs\\Python\\Python310\\lib\\site-packages\\keras\\src\\engine\\training.py\", line 2296, in evaluate\n\n  File \"c:\\Users\\Lenovo\\AppData\\Local\\Programs\\Python\\Python310\\lib\\site-packages\\keras\\src\\engine\\training.py\", line 4108, in run_step\n\n  File \"c:\\Users\\Lenovo\\AppData\\Local\\Programs\\Python\\Python310\\lib\\site-packages\\keras\\src\\engine\\training.py\", line 2066, in test_function\n\n  File \"c:\\Users\\Lenovo\\AppData\\Local\\Programs\\Python\\Python310\\lib\\site-packages\\keras\\src\\engine\\training.py\", line 2049, in step_function\n\n  File \"c:\\Users\\Lenovo\\AppData\\Local\\Programs\\Python\\Python310\\lib\\site-packages\\keras\\src\\engine\\training.py\", line 2037, in run_step\n\n  File \"c:\\Users\\Lenovo\\AppData\\Local\\Programs\\Python\\Python310\\lib\\site-packages\\keras\\src\\engine\\training.py\", line 1917, in test_step\n\n  File \"c:\\Users\\Lenovo\\AppData\\Local\\Programs\\Python\\Python310\\lib\\site-packages\\keras\\src\\utils\\traceback_utils.py\", line 65, in error_handler\n\n  File \"c:\\Users\\Lenovo\\AppData\\Local\\Programs\\Python\\Python310\\lib\\site-packages\\keras\\src\\engine\\training.py\", line 590, in __call__\n\n  File \"c:\\Users\\Lenovo\\AppData\\Local\\Programs\\Python\\Python310\\lib\\site-packages\\keras\\src\\utils\\traceback_utils.py\", line 65, in error_handler\n\n  File \"c:\\Users\\Lenovo\\AppData\\Local\\Programs\\Python\\Python310\\lib\\site-packages\\keras\\src\\engine\\base_layer.py\", line 1149, in __call__\n\n  File \"c:\\Users\\Lenovo\\AppData\\Local\\Programs\\Python\\Python310\\lib\\site-packages\\keras\\src\\utils\\traceback_utils.py\", line 96, in error_handler\n\n  File \"c:\\Users\\Lenovo\\AppData\\Local\\Programs\\Python\\Python310\\lib\\site-packages\\keras\\src\\engine\\sequential.py\", line 398, in call\n\n  File \"c:\\Users\\Lenovo\\AppData\\Local\\Programs\\Python\\Python310\\lib\\site-packages\\keras\\src\\engine\\functional.py\", line 515, in call\n\n  File \"c:\\Users\\Lenovo\\AppData\\Local\\Programs\\Python\\Python310\\lib\\site-packages\\keras\\src\\engine\\functional.py\", line 672, in _run_internal_graph\n\n  File \"c:\\Users\\Lenovo\\AppData\\Local\\Programs\\Python\\Python310\\lib\\site-packages\\keras\\src\\utils\\traceback_utils.py\", line 65, in error_handler\n\n  File \"c:\\Users\\Lenovo\\AppData\\Local\\Programs\\Python\\Python310\\lib\\site-packages\\keras\\src\\engine\\base_layer.py\", line 1149, in __call__\n\n  File \"c:\\Users\\Lenovo\\AppData\\Local\\Programs\\Python\\Python310\\lib\\site-packages\\keras\\src\\utils\\traceback_utils.py\", line 96, in error_handler\n\n  File \"c:\\Users\\Lenovo\\AppData\\Local\\Programs\\Python\\Python310\\lib\\site-packages\\keras\\src\\layers\\core\\dense.py\", line 255, in call\n\n  File \"c:\\Users\\Lenovo\\AppData\\Local\\Programs\\Python\\Python310\\lib\\site-packages\\keras\\src\\activations.py\", line 306, in relu\n\n  File \"c:\\Users\\Lenovo\\AppData\\Local\\Programs\\Python\\Python310\\lib\\site-packages\\keras\\src\\backend.py\", line 5395, in relu\n\nMatrix size-incompatible: In[0]: [32,1024], In[1]: [576,64]\n\t [[{{node sequential/dense/Relu}}]] [Op:__inference_test_function_19268]"
     ]
    }
   ],
   "source": [
    "model.evaluate(X_test_32, y_test)"
   ]
  },
  {
   "cell_type": "markdown",
   "metadata": {
    "id": "KTJbPXOsYQEB"
   },
   "source": [
    "No! you cannot! It raises \"Matrix size-incompatible\" Error,\n",
    "because we have used FC layers with **Flatten**"
   ]
  },
  {
   "cell_type": "markdown",
   "metadata": {
    "id": "lTcYrV07YdfY"
   },
   "source": [
    "## solution?!"
   ]
  },
  {
   "cell_type": "code",
   "execution_count": 15,
   "metadata": {
    "colab": {
     "base_uri": "https://localhost:8080/"
    },
    "id": "Qg87d27NYoAw",
    "outputId": "9d0d0740-d905-48f5-b6bd-2352254c1aac"
   },
   "outputs": [
    {
     "name": "stdout",
     "output_type": "stream",
     "text": [
      "Model: \"sequential\"\n",
      "_________________________________________________________________\n",
      " Layer (type)                Output Shape              Param #   \n",
      "=================================================================\n",
      " conv2d (Conv2D)             (None, 26, 26, 32)        320       \n",
      "                                                                 \n",
      " max_pooling2d (MaxPooling2  (None, 13, 13, 32)        0         \n",
      " D)                                                              \n",
      "                                                                 \n",
      " conv2d_1 (Conv2D)           (None, 11, 11, 64)        18496     \n",
      "                                                                 \n",
      " max_pooling2d_1 (MaxPoolin  (None, 5, 5, 64)          0         \n",
      " g2D)                                                            \n",
      "                                                                 \n",
      " conv2d_2 (Conv2D)           (None, 3, 3, 64)          36928     \n",
      "                                                                 \n",
      " flatten (Flatten)           (None, 576)               0         \n",
      "                                                                 \n",
      " dense (Dense)               (None, 64)                36928     \n",
      "                                                                 \n",
      " dropout (Dropout)           (None, 64)                0         \n",
      "                                                                 \n",
      " dense_1 (Dense)             (None, 10)                650       \n",
      "                                                                 \n",
      "=================================================================\n",
      "Total params: 93322 (364.54 KB)\n",
      "Trainable params: 93322 (364.54 KB)\n",
      "Non-trainable params: 0 (0.00 Byte)\n",
      "_________________________________________________________________\n"
     ]
    }
   ],
   "source": [
    "model.summary()"
   ]
  },
  {
   "cell_type": "code",
   "execution_count": 16,
   "metadata": {
    "colab": {
     "base_uri": "https://localhost:8080/"
    },
    "id": "ifx1uAEnYMlF",
    "outputId": "8bb10333-e642-400b-a4ac-45a5b9fef99e"
   },
   "outputs": [
    {
     "name": "stdout",
     "output_type": "stream",
     "text": [
      "Model: \"sequential_1\"\n",
      "_________________________________________________________________\n",
      " Layer (type)                Output Shape              Param #   \n",
      "=================================================================\n",
      " conv2d_3 (Conv2D)           (None, 30, 30, 32)        320       \n",
      "                                                                 \n",
      " max_pooling2d_2 (MaxPoolin  (None, 15, 15, 32)        0         \n",
      " g2D)                                                            \n",
      "                                                                 \n",
      " conv2d_4 (Conv2D)           (None, 13, 13, 64)        18496     \n",
      "                                                                 \n",
      " max_pooling2d_3 (MaxPoolin  (None, 6, 6, 64)          0         \n",
      " g2D)                                                            \n",
      "                                                                 \n",
      " conv2d_5 (Conv2D)           (None, 4, 4, 64)          36928     \n",
      "                                                                 \n",
      " flatten_1 (Flatten)         (None, 1024)              0         \n",
      "                                                                 \n",
      " dense_2 (Dense)             (None, 64)                65600     \n",
      "                                                                 \n",
      " dropout_1 (Dropout)         (None, 64)                0         \n",
      "                                                                 \n",
      " dense_3 (Dense)             (None, 10)                650       \n",
      "                                                                 \n",
      "=================================================================\n",
      "Total params: 121994 (476.54 KB)\n",
      "Trainable params: 121994 (476.54 KB)\n",
      "Non-trainable params: 0 (0.00 Byte)\n",
      "_________________________________________________________________\n"
     ]
    }
   ],
   "source": [
    "# 5. Define model architecture\n",
    "model = Sequential()\n",
    "model.add(layers.Conv2D(32, (3, 3), activation='relu',\n",
    "                        input_shape=(32, 32, 1)))\n",
    "model.add(layers.MaxPooling2D((2, 2)))\n",
    "model.add(layers.Conv2D(64, (3, 3), activation='relu'))\n",
    "model.add(layers.MaxPooling2D((2, 2)))\n",
    "model.add(layers.Conv2D(64, (3, 3), activation='relu'))\n",
    "model.add(layers.Flatten())\n",
    "model.add(layers.Dense(64, activation='relu'))\n",
    "model.add(Dropout(0.5))\n",
    "model.add(layers.Dense(10, activation='softmax'))\n",
    "\n",
    "model.summary()"
   ]
  },
  {
   "cell_type": "code",
   "execution_count": null,
   "metadata": {
    "id": "WQ8qS6T4Y6dC"
   },
   "outputs": [],
   "source": [
    "# 5. Define model architecture\n",
    "model = Sequential()\n",
    "model.add(layers.Conv2D(32, (3, 3), activation='relu'))\n",
    "model.add(layers.MaxPooling2D((2, 2)))\n",
    "model.add(layers.Conv2D(64, (3, 3), activation='relu'))\n",
    "model.add(layers.MaxPooling2D((2, 2)))\n",
    "model.add(layers.Conv2D(64, (3, 3), activation='relu'))\n",
    "model.add(layers.GlobalAveragePooling2D()) # the solution\n",
    "model.add(layers.Dense(64, activation='relu'))\n",
    "model.add(Dropout(0.5))\n",
    "model.add(layers.Dense(10, activation='softmax'))\n",
    "\n"
   ]
  },
  {
   "cell_type": "code",
   "execution_count": null,
   "metadata": {
    "colab": {
     "base_uri": "https://localhost:8080/"
    },
    "id": "-3f3W3E-ZT_J",
    "outputId": "f469b607-c6c8-4511-992d-8eef1eb89d5c"
   },
   "outputs": [],
   "source": [
    "model.predict(X_train_32[:5])\n",
    "model.summary()"
   ]
  },
  {
   "cell_type": "code",
   "execution_count": null,
   "metadata": {
    "colab": {
     "base_uri": "https://localhost:8080/"
    },
    "id": "KLHkGdW3ZhKL",
    "outputId": "121eaa22-acf8-436c-b959-bf752ef2667f"
   },
   "outputs": [],
   "source": [
    "# 6. Compile model\n",
    "model.compile(loss='categorical_crossentropy',\n",
    "              optimizer='adam',\n",
    "              metrics=['accuracy'])\n",
    "\n",
    "\n",
    "# 7. Fit model on training data\n",
    "history = model.fit(X_train_28, y_train,\n",
    "          epochs=80, batch_size=256, validation_split=0.2)\n"
   ]
  },
  {
   "cell_type": "markdown",
   "metadata": {
    "id": "EXAw4FU1aRUD"
   },
   "source": [
    "## lets evaluate it with 28x28"
   ]
  },
  {
   "cell_type": "code",
   "execution_count": null,
   "metadata": {
    "colab": {
     "base_uri": "https://localhost:8080/"
    },
    "id": "qNApvfT5aJXz",
    "outputId": "4de7ba8b-5b7d-4ebe-ff68-1ddafc774fba"
   },
   "outputs": [],
   "source": [
    "model.evaluate(X_test_28, y_test)"
   ]
  },
  {
   "cell_type": "markdown",
   "metadata": {
    "id": "UbxJ6HDLaV0h"
   },
   "source": [
    "## Now try it with different size!!!!"
   ]
  },
  {
   "cell_type": "code",
   "execution_count": null,
   "metadata": {
    "colab": {
     "base_uri": "https://localhost:8080/"
    },
    "id": "faqrYP7yaUZy",
    "outputId": "4db6aaa6-e46f-42f6-e29d-36eec54c15c3"
   },
   "outputs": [],
   "source": [
    "model.evaluate(X_test_32, y_test)"
   ]
  }
 ],
 "metadata": {
  "accelerator": "GPU",
  "anaconda-cloud": {},
  "colab": {
   "gpuType": "T4",
   "provenance": []
  },
  "gpuClass": "standard",
  "kernelspec": {
   "display_name": "Python 3",
   "language": "python",
   "name": "python3"
  },
  "language_info": {
   "codemirror_mode": {
    "name": "ipython",
    "version": 3
   },
   "file_extension": ".py",
   "mimetype": "text/x-python",
   "name": "python",
   "nbconvert_exporter": "python",
   "pygments_lexer": "ipython3",
   "version": "3.10.5"
  },
  "nbpresent": {
   "slides": {
    "300ee14f-a043-486e-b274-7ff253907cd7": {
     "id": "300ee14f-a043-486e-b274-7ff253907cd7",
     "prev": "cb74e0bc-4513-4d13-b7f1-14c3078a7927",
     "regions": {
      "26dc3f39-a230-447c-af4c-f5e5b2fb7835": {
       "attrs": {
        "height": 0.8,
        "width": 0.8,
        "x": 0.1,
        "y": 0.1
       },
       "content": {
        "cell": "c58440a5-3f8f-4f37-9c79-6bf766209406",
        "part": "whole"
       },
       "id": "26dc3f39-a230-447c-af4c-f5e5b2fb7835"
      }
     }
    },
    "878aa53a-1444-4100-8f50-7a408191c579": {
     "id": "878aa53a-1444-4100-8f50-7a408191c579",
     "prev": null,
     "regions": {
      "a6c6843a-5ea6-4fbc-b890-3b4b8ae475b3": {
       "attrs": {
        "height": 0.8,
        "width": 0.8,
        "x": 0.1,
        "y": 0.1
       },
       "content": {
        "cell": "588ee1fa-64b5-453b-ade7-8e6b2515821c",
        "part": "whole"
       },
       "id": "a6c6843a-5ea6-4fbc-b890-3b4b8ae475b3"
      }
     }
    },
    "96ffe88e-7b50-43de-afdd-942e564f4e3e": {
     "id": "96ffe88e-7b50-43de-afdd-942e564f4e3e",
     "prev": "878aa53a-1444-4100-8f50-7a408191c579",
     "regions": {
      "b7e52e12-489a-468d-b10c-af2024fd2856": {
       "attrs": {
        "height": 0.8,
        "width": 0.8,
        "x": 0.1,
        "y": 0.1
       },
       "content": {
        "cell": "de829a92-1fb6-44ad-a2c6-fc1001e1f6e1",
        "part": "whole"
       },
       "id": "b7e52e12-489a-468d-b10c-af2024fd2856"
      }
     }
    },
    "cb74e0bc-4513-4d13-b7f1-14c3078a7927": {
     "id": "cb74e0bc-4513-4d13-b7f1-14c3078a7927",
     "prev": "96ffe88e-7b50-43de-afdd-942e564f4e3e",
     "regions": {
      "444878ee-68f3-4abb-acff-a7079b21e86d": {
       "attrs": {
        "height": 0.8,
        "width": 0.8,
        "x": 0.1,
        "y": 0.1
       },
       "content": {
        "cell": "25f3f538-1ee8-4d98-a6bb-14cbeb7a702d",
        "part": "whole"
       },
       "id": "444878ee-68f3-4abb-acff-a7079b21e86d"
      }
     }
    }
   },
   "themes": {}
  }
 },
 "nbformat": 4,
 "nbformat_minor": 4
}
